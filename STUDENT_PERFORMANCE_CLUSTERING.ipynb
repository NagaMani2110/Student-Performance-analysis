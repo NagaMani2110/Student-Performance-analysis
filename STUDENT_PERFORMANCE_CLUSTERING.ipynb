{
 "cells": [
  {
   "cell_type": "markdown",
   "id": "3bce9c90",
   "metadata": {},
   "source": [
    "Linear algebra library"
   ]
  },
  {
   "cell_type": "code",
   "execution_count": 2,
   "id": "c4d3b50c",
   "metadata": {},
   "outputs": [],
   "source": [
    "import numpy as np "
   ]
  },
  {
   "cell_type": "markdown",
   "id": "76d9a99c",
   "metadata": {},
   "source": [
    "Dataframe LIbrary"
   ]
  },
  {
   "cell_type": "code",
   "execution_count": 3,
   "id": "03a9eb84",
   "metadata": {},
   "outputs": [],
   "source": [
    "import pandas as pd "
   ]
  },
  {
   "cell_type": "markdown",
   "id": "95a41fb0",
   "metadata": {},
   "source": [
    "data visualization library"
   ]
  },
  {
   "cell_type": "code",
   "execution_count": 4,
   "id": "d4a92e35",
   "metadata": {},
   "outputs": [],
   "source": [
    "import matplotlib.pyplot as plt"
   ]
  },
  {
   "cell_type": "markdown",
   "id": "ecac9a1b",
   "metadata": {},
   "source": [
    " statistical data visualization library"
   ]
  },
  {
   "cell_type": "code",
   "execution_count": 5,
   "id": "5a449c57",
   "metadata": {},
   "outputs": [],
   "source": [
    "import seaborn as sns "
   ]
  },
  {
   "cell_type": "markdown",
   "id": "6c7b81e8",
   "metadata": {},
   "source": [
    "aligning plots inline"
   ]
  },
  {
   "cell_type": "code",
   "execution_count": 6,
   "id": "59d84222",
   "metadata": {},
   "outputs": [],
   "source": [
    "%matplotlib inline"
   ]
  },
  {
   "cell_type": "markdown",
   "id": "67ef9987",
   "metadata": {},
   "source": [
    "Ignoring warnings library"
   ]
  },
  {
   "cell_type": "code",
   "execution_count": 7,
   "id": "691e0514",
   "metadata": {},
   "outputs": [],
   "source": [
    "import warnings\n",
    "warnings.filterwarnings('ignore')"
   ]
  },
  {
   "cell_type": "markdown",
   "id": "77442191",
   "metadata": {},
   "source": [
    "Encoding Libary"
   ]
  },
  {
   "cell_type": "code",
   "execution_count": 8,
   "id": "6f16f719",
   "metadata": {},
   "outputs": [],
   "source": [
    "from sklearn.preprocessing import LabelEncoder"
   ]
  },
  {
   "cell_type": "markdown",
   "id": "55468335",
   "metadata": {},
   "source": [
    "Reading the Dataset/ Data Preparation"
   ]
  },
  {
   "cell_type": "code",
   "execution_count": 10,
   "id": "96b53512",
   "metadata": {},
   "outputs": [],
   "source": [
    "df = pd.read_csv('StudentsPerformance.csv')"
   ]
  },
  {
   "cell_type": "markdown",
   "id": "bf0aae66",
   "metadata": {},
   "source": [
    "# Determining dataset shape"
   ]
  },
  {
   "cell_type": "code",
   "execution_count": 11,
   "id": "1108943f",
   "metadata": {},
   "outputs": [
    {
     "data": {
      "text/plain": [
       "(1000, 8)"
      ]
     },
     "execution_count": 11,
     "metadata": {},
     "output_type": "execute_result"
    }
   ],
   "source": [
    "df.shape"
   ]
  },
  {
   "cell_type": "markdown",
   "id": "e021f361",
   "metadata": {},
   "source": [
    "# Previewing the data"
   ]
  },
  {
   "cell_type": "code",
   "execution_count": 12,
   "id": "c17f1b9f",
   "metadata": {},
   "outputs": [
    {
     "data": {
      "text/html": [
       "<div>\n",
       "<style scoped>\n",
       "    .dataframe tbody tr th:only-of-type {\n",
       "        vertical-align: middle;\n",
       "    }\n",
       "\n",
       "    .dataframe tbody tr th {\n",
       "        vertical-align: top;\n",
       "    }\n",
       "\n",
       "    .dataframe thead th {\n",
       "        text-align: right;\n",
       "    }\n",
       "</style>\n",
       "<table border=\"1\" class=\"dataframe\">\n",
       "  <thead>\n",
       "    <tr style=\"text-align: right;\">\n",
       "      <th></th>\n",
       "      <th>gender</th>\n",
       "      <th>race/ethnicity</th>\n",
       "      <th>parental level of education</th>\n",
       "      <th>lunch</th>\n",
       "      <th>test preparation course</th>\n",
       "      <th>math score</th>\n",
       "      <th>reading score</th>\n",
       "      <th>writing score</th>\n",
       "    </tr>\n",
       "  </thead>\n",
       "  <tbody>\n",
       "    <tr>\n",
       "      <th>0</th>\n",
       "      <td>female</td>\n",
       "      <td>group B</td>\n",
       "      <td>bachelor's degree</td>\n",
       "      <td>standard</td>\n",
       "      <td>none</td>\n",
       "      <td>72</td>\n",
       "      <td>72</td>\n",
       "      <td>74</td>\n",
       "    </tr>\n",
       "    <tr>\n",
       "      <th>1</th>\n",
       "      <td>female</td>\n",
       "      <td>group C</td>\n",
       "      <td>some college</td>\n",
       "      <td>standard</td>\n",
       "      <td>completed</td>\n",
       "      <td>69</td>\n",
       "      <td>90</td>\n",
       "      <td>88</td>\n",
       "    </tr>\n",
       "    <tr>\n",
       "      <th>2</th>\n",
       "      <td>female</td>\n",
       "      <td>group B</td>\n",
       "      <td>master's degree</td>\n",
       "      <td>standard</td>\n",
       "      <td>none</td>\n",
       "      <td>90</td>\n",
       "      <td>95</td>\n",
       "      <td>93</td>\n",
       "    </tr>\n",
       "    <tr>\n",
       "      <th>3</th>\n",
       "      <td>male</td>\n",
       "      <td>group A</td>\n",
       "      <td>associate's degree</td>\n",
       "      <td>free/reduced</td>\n",
       "      <td>none</td>\n",
       "      <td>47</td>\n",
       "      <td>57</td>\n",
       "      <td>44</td>\n",
       "    </tr>\n",
       "    <tr>\n",
       "      <th>4</th>\n",
       "      <td>male</td>\n",
       "      <td>group C</td>\n",
       "      <td>some college</td>\n",
       "      <td>standard</td>\n",
       "      <td>none</td>\n",
       "      <td>76</td>\n",
       "      <td>78</td>\n",
       "      <td>75</td>\n",
       "    </tr>\n",
       "  </tbody>\n",
       "</table>\n",
       "</div>"
      ],
      "text/plain": [
       "   gender race/ethnicity parental level of education         lunch  \\\n",
       "0  female        group B           bachelor's degree      standard   \n",
       "1  female        group C                some college      standard   \n",
       "2  female        group B             master's degree      standard   \n",
       "3    male        group A          associate's degree  free/reduced   \n",
       "4    male        group C                some college      standard   \n",
       "\n",
       "  test preparation course  math score  reading score  writing score  \n",
       "0                    none          72             72             74  \n",
       "1               completed          69             90             88  \n",
       "2                    none          90             95             93  \n",
       "3                    none          47             57             44  \n",
       "4                    none          76             78             75  "
      ]
     },
     "execution_count": 12,
     "metadata": {},
     "output_type": "execute_result"
    }
   ],
   "source": [
    "df.head()"
   ]
  },
  {
   "cell_type": "markdown",
   "id": "428cda3f",
   "metadata": {},
   "source": [
    "# Determining the dataset Summary"
   ]
  },
  {
   "cell_type": "code",
   "execution_count": 13,
   "id": "cc6a540e",
   "metadata": {},
   "outputs": [
    {
     "name": "stdout",
     "output_type": "stream",
     "text": [
      "<class 'pandas.core.frame.DataFrame'>\n",
      "RangeIndex: 1000 entries, 0 to 999\n",
      "Data columns (total 8 columns):\n",
      " #   Column                       Non-Null Count  Dtype \n",
      "---  ------                       --------------  ----- \n",
      " 0   gender                       1000 non-null   object\n",
      " 1   race/ethnicity               1000 non-null   object\n",
      " 2   parental level of education  1000 non-null   object\n",
      " 3   lunch                        1000 non-null   object\n",
      " 4   test preparation course      1000 non-null   object\n",
      " 5   math score                   1000 non-null   int64 \n",
      " 6   reading score                1000 non-null   int64 \n",
      " 7   writing score                1000 non-null   int64 \n",
      "dtypes: int64(3), object(5)\n",
      "memory usage: 62.6+ KB\n"
     ]
    }
   ],
   "source": [
    "df.info()"
   ]
  },
  {
   "cell_type": "markdown",
   "id": "eee9b7a5",
   "metadata": {},
   "source": [
    "# Determining null values in the dataset"
   ]
  },
  {
   "cell_type": "code",
   "execution_count": 14,
   "id": "72a8da6e",
   "metadata": {},
   "outputs": [
    {
     "data": {
      "text/plain": [
       "gender                         0\n",
       "race/ethnicity                 0\n",
       "parental level of education    0\n",
       "lunch                          0\n",
       "test preparation course        0\n",
       "math score                     0\n",
       "reading score                  0\n",
       "writing score                  0\n",
       "dtype: int64"
      ]
     },
     "execution_count": 14,
     "metadata": {},
     "output_type": "execute_result"
    }
   ],
   "source": [
    "df.isnull().sum()"
   ]
  },
  {
   "cell_type": "markdown",
   "id": "8cfd533a",
   "metadata": {},
   "source": [
    "From the output above , we can see that the Student Performance Dataset doesn't contain any null values ."
   ]
  },
  {
   "cell_type": "markdown",
   "id": "fc4f95a8",
   "metadata": {},
   "source": [
    "# Determining the numerical variable's statistical summary"
   ]
  },
  {
   "cell_type": "code",
   "execution_count": 15,
   "id": "f0c436fa",
   "metadata": {},
   "outputs": [
    {
     "data": {
      "text/html": [
       "<div>\n",
       "<style scoped>\n",
       "    .dataframe tbody tr th:only-of-type {\n",
       "        vertical-align: middle;\n",
       "    }\n",
       "\n",
       "    .dataframe tbody tr th {\n",
       "        vertical-align: top;\n",
       "    }\n",
       "\n",
       "    .dataframe thead th {\n",
       "        text-align: right;\n",
       "    }\n",
       "</style>\n",
       "<table border=\"1\" class=\"dataframe\">\n",
       "  <thead>\n",
       "    <tr style=\"text-align: right;\">\n",
       "      <th></th>\n",
       "      <th>math score</th>\n",
       "      <th>reading score</th>\n",
       "      <th>writing score</th>\n",
       "    </tr>\n",
       "  </thead>\n",
       "  <tbody>\n",
       "    <tr>\n",
       "      <th>count</th>\n",
       "      <td>1000.00000</td>\n",
       "      <td>1000.000000</td>\n",
       "      <td>1000.000000</td>\n",
       "    </tr>\n",
       "    <tr>\n",
       "      <th>mean</th>\n",
       "      <td>66.08900</td>\n",
       "      <td>69.169000</td>\n",
       "      <td>68.054000</td>\n",
       "    </tr>\n",
       "    <tr>\n",
       "      <th>std</th>\n",
       "      <td>15.16308</td>\n",
       "      <td>14.600192</td>\n",
       "      <td>15.195657</td>\n",
       "    </tr>\n",
       "    <tr>\n",
       "      <th>min</th>\n",
       "      <td>0.00000</td>\n",
       "      <td>17.000000</td>\n",
       "      <td>10.000000</td>\n",
       "    </tr>\n",
       "    <tr>\n",
       "      <th>25%</th>\n",
       "      <td>57.00000</td>\n",
       "      <td>59.000000</td>\n",
       "      <td>57.750000</td>\n",
       "    </tr>\n",
       "    <tr>\n",
       "      <th>50%</th>\n",
       "      <td>66.00000</td>\n",
       "      <td>70.000000</td>\n",
       "      <td>69.000000</td>\n",
       "    </tr>\n",
       "    <tr>\n",
       "      <th>75%</th>\n",
       "      <td>77.00000</td>\n",
       "      <td>79.000000</td>\n",
       "      <td>79.000000</td>\n",
       "    </tr>\n",
       "    <tr>\n",
       "      <th>max</th>\n",
       "      <td>100.00000</td>\n",
       "      <td>100.000000</td>\n",
       "      <td>100.000000</td>\n",
       "    </tr>\n",
       "  </tbody>\n",
       "</table>\n",
       "</div>"
      ],
      "text/plain": [
       "       math score  reading score  writing score\n",
       "count  1000.00000    1000.000000    1000.000000\n",
       "mean     66.08900      69.169000      68.054000\n",
       "std      15.16308      14.600192      15.195657\n",
       "min       0.00000      17.000000      10.000000\n",
       "25%      57.00000      59.000000      57.750000\n",
       "50%      66.00000      70.000000      69.000000\n",
       "75%      77.00000      79.000000      79.000000\n",
       "max     100.00000     100.000000     100.000000"
      ]
     },
     "execution_count": 15,
     "metadata": {},
     "output_type": "execute_result"
    }
   ],
   "source": [
    "df.describe()"
   ]
  },
  {
   "cell_type": "markdown",
   "id": "1a311045",
   "metadata": {},
   "source": [
    "# Renaming some of the columns / Truncating the names of some of the columns in the Student Performance Dataset"
   ]
  },
  {
   "cell_type": "code",
   "execution_count": 16,
   "id": "b5e5c026",
   "metadata": {},
   "outputs": [],
   "source": [
    "df.rename(columns = {\"race/ethnicity\":\"race\",\"parental level of education\":\"parental_edu\", \n",
    "                     \"math score\":\"math_score\", \"reading score\":\"reading_Score\", \"writing score\":\"writing_score\", \n",
    "                     \"test preparation course\":\"test_prep_course\"}, inplace = True)"
   ]
  },
  {
   "cell_type": "code",
   "execution_count": 17,
   "id": "41824208",
   "metadata": {},
   "outputs": [
    {
     "data": {
      "text/html": [
       "<div>\n",
       "<style scoped>\n",
       "    .dataframe tbody tr th:only-of-type {\n",
       "        vertical-align: middle;\n",
       "    }\n",
       "\n",
       "    .dataframe tbody tr th {\n",
       "        vertical-align: top;\n",
       "    }\n",
       "\n",
       "    .dataframe thead th {\n",
       "        text-align: right;\n",
       "    }\n",
       "</style>\n",
       "<table border=\"1\" class=\"dataframe\">\n",
       "  <thead>\n",
       "    <tr style=\"text-align: right;\">\n",
       "      <th></th>\n",
       "      <th>gender</th>\n",
       "      <th>race</th>\n",
       "      <th>parental_edu</th>\n",
       "      <th>lunch</th>\n",
       "      <th>test_prep_course</th>\n",
       "      <th>math_score</th>\n",
       "      <th>reading_Score</th>\n",
       "      <th>writing_score</th>\n",
       "    </tr>\n",
       "  </thead>\n",
       "  <tbody>\n",
       "    <tr>\n",
       "      <th>0</th>\n",
       "      <td>female</td>\n",
       "      <td>group B</td>\n",
       "      <td>bachelor's degree</td>\n",
       "      <td>standard</td>\n",
       "      <td>none</td>\n",
       "      <td>72</td>\n",
       "      <td>72</td>\n",
       "      <td>74</td>\n",
       "    </tr>\n",
       "    <tr>\n",
       "      <th>1</th>\n",
       "      <td>female</td>\n",
       "      <td>group C</td>\n",
       "      <td>some college</td>\n",
       "      <td>standard</td>\n",
       "      <td>completed</td>\n",
       "      <td>69</td>\n",
       "      <td>90</td>\n",
       "      <td>88</td>\n",
       "    </tr>\n",
       "    <tr>\n",
       "      <th>2</th>\n",
       "      <td>female</td>\n",
       "      <td>group B</td>\n",
       "      <td>master's degree</td>\n",
       "      <td>standard</td>\n",
       "      <td>none</td>\n",
       "      <td>90</td>\n",
       "      <td>95</td>\n",
       "      <td>93</td>\n",
       "    </tr>\n",
       "    <tr>\n",
       "      <th>3</th>\n",
       "      <td>male</td>\n",
       "      <td>group A</td>\n",
       "      <td>associate's degree</td>\n",
       "      <td>free/reduced</td>\n",
       "      <td>none</td>\n",
       "      <td>47</td>\n",
       "      <td>57</td>\n",
       "      <td>44</td>\n",
       "    </tr>\n",
       "    <tr>\n",
       "      <th>4</th>\n",
       "      <td>male</td>\n",
       "      <td>group C</td>\n",
       "      <td>some college</td>\n",
       "      <td>standard</td>\n",
       "      <td>none</td>\n",
       "      <td>76</td>\n",
       "      <td>78</td>\n",
       "      <td>75</td>\n",
       "    </tr>\n",
       "  </tbody>\n",
       "</table>\n",
       "</div>"
      ],
      "text/plain": [
       "   gender     race        parental_edu         lunch test_prep_course  \\\n",
       "0  female  group B   bachelor's degree      standard             none   \n",
       "1  female  group C        some college      standard        completed   \n",
       "2  female  group B     master's degree      standard             none   \n",
       "3    male  group A  associate's degree  free/reduced             none   \n",
       "4    male  group C        some college      standard             none   \n",
       "\n",
       "   math_score  reading_Score  writing_score  \n",
       "0          72             72             74  \n",
       "1          69             90             88  \n",
       "2          90             95             93  \n",
       "3          47             57             44  \n",
       "4          76             78             75  "
      ]
     },
     "execution_count": 17,
     "metadata": {},
     "output_type": "execute_result"
    }
   ],
   "source": [
    "df.head()"
   ]
  },
  {
   "cell_type": "markdown",
   "id": "3f07140b",
   "metadata": {},
   "source": [
    "The output shown above shows the renamed dataset to fit the clustering criteria"
   ]
  },
  {
   "cell_type": "markdown",
   "id": "7a39b84f",
   "metadata": {},
   "source": [
    "Exploring each of the 5 categorical Variables {gender , race,parental_edu,test_prep_course and lunch} as shown below.Also known as String Variables"
   ]
  },
  {
   "cell_type": "markdown",
   "id": "2dae08cd",
   "metadata": {},
   "source": [
    "# 1.Gender Categorical Variable"
   ]
  },
  {
   "cell_type": "markdown",
   "id": "4f4f38ac",
   "metadata": {},
   "source": [
    " viewing the labels in the gender variable"
   ]
  },
  {
   "cell_type": "code",
   "execution_count": 18,
   "id": "aa53e65a",
   "metadata": {},
   "outputs": [
    {
     "data": {
      "text/plain": [
       "array(['female', 'male'], dtype=object)"
      ]
     },
     "execution_count": 18,
     "metadata": {},
     "output_type": "execute_result"
    }
   ],
   "source": [
    "df['gender'].unique()"
   ]
  },
  {
   "cell_type": "markdown",
   "id": "b6ff0774",
   "metadata": {},
   "source": [
    "viewing the different types of variables which are in the gender variable"
   ]
  },
  {
   "cell_type": "code",
   "execution_count": 19,
   "id": "16b1a4dd",
   "metadata": {},
   "outputs": [
    {
     "data": {
      "text/plain": [
       "2"
      ]
     },
     "execution_count": 19,
     "metadata": {},
     "output_type": "execute_result"
    }
   ],
   "source": [
    "len(df['gender'].unique())"
   ]
  },
  {
   "cell_type": "markdown",
   "id": "00e70440",
   "metadata": {},
   "source": [
    "# 2.Race Categorical Variable"
   ]
  },
  {
   "cell_type": "markdown",
   "id": "64a5fc84",
   "metadata": {},
   "source": [
    "viewing the labels in the race variable"
   ]
  },
  {
   "cell_type": "code",
   "execution_count": 20,
   "id": "b85abcb7",
   "metadata": {},
   "outputs": [
    {
     "data": {
      "text/plain": [
       "array(['group B', 'group C', 'group A', 'group D', 'group E'],\n",
       "      dtype=object)"
      ]
     },
     "execution_count": 20,
     "metadata": {},
     "output_type": "execute_result"
    }
   ],
   "source": [
    "df['race'].unique()"
   ]
  },
  {
   "cell_type": "markdown",
   "id": "c475b4f9",
   "metadata": {},
   "source": [
    "viewing the different types of variables which are in the race variable"
   ]
  },
  {
   "cell_type": "code",
   "execution_count": 21,
   "id": "51ec39aa",
   "metadata": {},
   "outputs": [
    {
     "data": {
      "text/plain": [
       "5"
      ]
     },
     "execution_count": 21,
     "metadata": {},
     "output_type": "execute_result"
    }
   ],
   "source": [
    "len(df['race'].unique())"
   ]
  },
  {
   "cell_type": "markdown",
   "id": "d3f38c80",
   "metadata": {},
   "source": [
    "# 3.Parental level of education as a Categorical Variable"
   ]
  },
  {
   "cell_type": "markdown",
   "id": "0259d818",
   "metadata": {},
   "source": [
    "Viewing the labels in the parental_edu variable"
   ]
  },
  {
   "cell_type": "code",
   "execution_count": 22,
   "id": "eae17eff",
   "metadata": {},
   "outputs": [
    {
     "data": {
      "text/plain": [
       "array([\"bachelor's degree\", 'some college', \"master's degree\",\n",
       "       \"associate's degree\", 'high school', 'some high school'],\n",
       "      dtype=object)"
      ]
     },
     "execution_count": 22,
     "metadata": {},
     "output_type": "execute_result"
    }
   ],
   "source": [
    "df['parental_edu'].unique()"
   ]
  },
  {
   "cell_type": "markdown",
   "id": "aee4e2c9",
   "metadata": {},
   "source": [
    "viewing the different types of variables which are in the parental_edu variable"
   ]
  },
  {
   "cell_type": "code",
   "execution_count": 23,
   "id": "15b0d97e",
   "metadata": {},
   "outputs": [
    {
     "data": {
      "text/plain": [
       "6"
      ]
     },
     "execution_count": 23,
     "metadata": {},
     "output_type": "execute_result"
    }
   ],
   "source": [
    "len(df['parental_edu'].unique())"
   ]
  },
  {
   "cell_type": "markdown",
   "id": "57ee6eba",
   "metadata": {},
   "source": [
    "# 4. Test Preparation Course as a Categorical Variable"
   ]
  },
  {
   "cell_type": "markdown",
   "id": "548c3acd",
   "metadata": {},
   "source": [
    "Viewing the labels in the test_prep_course variable"
   ]
  },
  {
   "cell_type": "code",
   "execution_count": 24,
   "id": "6a205aec",
   "metadata": {},
   "outputs": [
    {
     "data": {
      "text/plain": [
       "array(['none', 'completed'], dtype=object)"
      ]
     },
     "execution_count": 24,
     "metadata": {},
     "output_type": "execute_result"
    }
   ],
   "source": [
    "df['test_prep_course'].unique()"
   ]
  },
  {
   "cell_type": "markdown",
   "id": "4db7deae",
   "metadata": {},
   "source": [
    "viewing the different types of variables which are in the test_prep_course variable"
   ]
  },
  {
   "cell_type": "code",
   "execution_count": 25,
   "id": "de2a3418",
   "metadata": {},
   "outputs": [
    {
     "data": {
      "text/plain": [
       "2"
      ]
     },
     "execution_count": 25,
     "metadata": {},
     "output_type": "execute_result"
    }
   ],
   "source": [
    "len(df['test_prep_course'].unique())"
   ]
  },
  {
   "cell_type": "markdown",
   "id": "a7db0090",
   "metadata": {},
   "source": [
    "# 5. Lunch as a Categorical Variable"
   ]
  },
  {
   "cell_type": "markdown",
   "id": "144b7e53",
   "metadata": {},
   "source": [
    "Viewing the labels in the lunch variable"
   ]
  },
  {
   "cell_type": "code",
   "execution_count": 26,
   "id": "d650a172",
   "metadata": {},
   "outputs": [
    {
     "data": {
      "text/plain": [
       "array(['standard', 'free/reduced'], dtype=object)"
      ]
     },
     "execution_count": 26,
     "metadata": {},
     "output_type": "execute_result"
    }
   ],
   "source": [
    "df['lunch'].unique()"
   ]
  },
  {
   "cell_type": "markdown",
   "id": "18ea3d0c",
   "metadata": {},
   "source": [
    "viewing the different types of variables which are in the lunch variable"
   ]
  },
  {
   "cell_type": "code",
   "execution_count": 27,
   "id": "55e72b3d",
   "metadata": {},
   "outputs": [
    {
     "data": {
      "text/plain": [
       "2"
      ]
     },
     "execution_count": 27,
     "metadata": {},
     "output_type": "execute_result"
    }
   ],
   "source": [
    "len(df['lunch'].unique())"
   ]
  },
  {
   "cell_type": "markdown",
   "id": "3e02592c-b4d2-4c9b-86cc-1fa7fda9f937",
   "metadata": {},
   "source": [
    "Converting categorical coulmns into numerical to check the correlation"
   ]
  },
  {
   "cell_type": "code",
   "execution_count": 28,
   "id": "df7150cc-865c-4703-9d52-2e5e3e4c0afb",
   "metadata": {},
   "outputs": [
    {
     "data": {
      "text/html": [
       "<div>\n",
       "<style scoped>\n",
       "    .dataframe tbody tr th:only-of-type {\n",
       "        vertical-align: middle;\n",
       "    }\n",
       "\n",
       "    .dataframe tbody tr th {\n",
       "        vertical-align: top;\n",
       "    }\n",
       "\n",
       "    .dataframe thead th {\n",
       "        text-align: right;\n",
       "    }\n",
       "</style>\n",
       "<table border=\"1\" class=\"dataframe\">\n",
       "  <thead>\n",
       "    <tr style=\"text-align: right;\">\n",
       "      <th></th>\n",
       "      <th>gender</th>\n",
       "      <th>race</th>\n",
       "      <th>parental_edu</th>\n",
       "      <th>lunch</th>\n",
       "      <th>test_prep_course</th>\n",
       "      <th>math_score</th>\n",
       "      <th>reading_Score</th>\n",
       "      <th>writing_score</th>\n",
       "    </tr>\n",
       "  </thead>\n",
       "  <tbody>\n",
       "    <tr>\n",
       "      <th>0</th>\n",
       "      <td>0</td>\n",
       "      <td>0</td>\n",
       "      <td>0</td>\n",
       "      <td>0</td>\n",
       "      <td>0</td>\n",
       "      <td>72</td>\n",
       "      <td>72</td>\n",
       "      <td>74</td>\n",
       "    </tr>\n",
       "    <tr>\n",
       "      <th>1</th>\n",
       "      <td>0</td>\n",
       "      <td>1</td>\n",
       "      <td>1</td>\n",
       "      <td>0</td>\n",
       "      <td>1</td>\n",
       "      <td>69</td>\n",
       "      <td>90</td>\n",
       "      <td>88</td>\n",
       "    </tr>\n",
       "    <tr>\n",
       "      <th>2</th>\n",
       "      <td>0</td>\n",
       "      <td>0</td>\n",
       "      <td>2</td>\n",
       "      <td>0</td>\n",
       "      <td>0</td>\n",
       "      <td>90</td>\n",
       "      <td>95</td>\n",
       "      <td>93</td>\n",
       "    </tr>\n",
       "    <tr>\n",
       "      <th>3</th>\n",
       "      <td>1</td>\n",
       "      <td>2</td>\n",
       "      <td>3</td>\n",
       "      <td>1</td>\n",
       "      <td>0</td>\n",
       "      <td>47</td>\n",
       "      <td>57</td>\n",
       "      <td>44</td>\n",
       "    </tr>\n",
       "    <tr>\n",
       "      <th>4</th>\n",
       "      <td>1</td>\n",
       "      <td>1</td>\n",
       "      <td>1</td>\n",
       "      <td>0</td>\n",
       "      <td>0</td>\n",
       "      <td>76</td>\n",
       "      <td>78</td>\n",
       "      <td>75</td>\n",
       "    </tr>\n",
       "  </tbody>\n",
       "</table>\n",
       "</div>"
      ],
      "text/plain": [
       "   gender  race  parental_edu  lunch  test_prep_course  math_score  \\\n",
       "0       0     0             0      0                 0          72   \n",
       "1       0     1             1      0                 1          69   \n",
       "2       0     0             2      0                 0          90   \n",
       "3       1     2             3      1                 0          47   \n",
       "4       1     1             1      0                 0          76   \n",
       "\n",
       "   reading_Score  writing_score  \n",
       "0             72             74  \n",
       "1             90             88  \n",
       "2             95             93  \n",
       "3             57             44  \n",
       "4             78             75  "
      ]
     },
     "execution_count": 28,
     "metadata": {},
     "output_type": "execute_result"
    }
   ],
   "source": [
    "gender = {'female': 0, 'male': 1}\n",
    "race = dict(zip(df['race'].unique(), range(df['race'].nunique())))\n",
    "parental = dict(zip(df['parental_edu'].unique(), range(df['parental_edu'].nunique())))\n",
    "lunch = dict(zip(df['lunch'].unique(), range(df['lunch'].nunique())))\n",
    "test = dict(zip(df['test_prep_course'].unique(), range(df['test_prep_course'].nunique())))\n",
    "df['gender'] = [gender[x] for x in df['gender']]\n",
    "df['race'] = [race[x] for x in df['race']]\n",
    "df['parental_edu'] = [parental[x] for x in df['parental_edu']]\n",
    "df['lunch'] = [lunch[x] for x in df['lunch']]\n",
    "df['test_prep_course'] = [test[x] for x in df['test_prep_course']]\n",
    "df.head()"
   ]
  },
  {
   "cell_type": "code",
   "execution_count": 29,
   "id": "82352275-63aa-49b8-9618-5e50ac493e1a",
   "metadata": {},
   "outputs": [
    {
     "data": {
      "text/plain": [
       "<AxesSubplot:>"
      ]
     },
     "execution_count": 29,
     "metadata": {},
     "output_type": "execute_result"
    },
    {
     "data": {
      "image/png": "[encoded data removed]",
      "text/plain": [
       "<Figure size 432x288 with 2 Axes>"
      ]
     },
     "metadata": {
      "needs_background": "light"
     },
     "output_type": "display_data"
    }
   ],
   "source": [
    "sns.heatmap(df.corr(), annot=True)"
   ]
  },
  {
   "cell_type": "markdown",
   "id": "ec17d2b3",
   "metadata": {},
   "source": [
    "Droping  race, gender, lunch, parental_edu variables from the dataset which are categorical and are not that much usefull for our analysis and the correlation with other variables is very less"
   ]
  },
  {
   "cell_type": "code",
   "execution_count": 30,
   "id": "0b63cba7",
   "metadata": {},
   "outputs": [],
   "source": [
    "df.drop(['race', 'gender','lunch','parental_edu'], axis=1, inplace=True)"
   ]
  },
  {
   "cell_type": "markdown",
   "id": "822a3152",
   "metadata": {},
   "source": [
    "Reviewing Dataset Summary "
   ]
  },
  {
   "cell_type": "code",
   "execution_count": 31,
   "id": "cccf3946",
   "metadata": {},
   "outputs": [
    {
     "name": "stdout",
     "output_type": "stream",
     "text": [
      "<class 'pandas.core.frame.DataFrame'>\n",
      "RangeIndex: 1000 entries, 0 to 999\n",
      "Data columns (total 4 columns):\n",
      " #   Column            Non-Null Count  Dtype\n",
      "---  ------            --------------  -----\n",
      " 0   test_prep_course  1000 non-null   int64\n",
      " 1   math_score        1000 non-null   int64\n",
      " 2   reading_Score     1000 non-null   int64\n",
      " 3   writing_score     1000 non-null   int64\n",
      "dtypes: int64(4)\n",
      "memory usage: 31.4 KB\n"
     ]
    }
   ],
   "source": [
    "df.info()"
   ]
  },
  {
   "cell_type": "markdown",
   "id": "31741358",
   "metadata": {},
   "source": [
    "Checking Dataset Head"
   ]
  },
  {
   "cell_type": "code",
   "execution_count": 32,
   "id": "0388b7be",
   "metadata": {},
   "outputs": [
    {
     "data": {
      "text/html": [
       "<div>\n",
       "<style scoped>\n",
       "    .dataframe tbody tr th:only-of-type {\n",
       "        vertical-align: middle;\n",
       "    }\n",
       "\n",
       "    .dataframe tbody tr th {\n",
       "        vertical-align: top;\n",
       "    }\n",
       "\n",
       "    .dataframe thead th {\n",
       "        text-align: right;\n",
       "    }\n",
       "</style>\n",
       "<table border=\"1\" class=\"dataframe\">\n",
       "  <thead>\n",
       "    <tr style=\"text-align: right;\">\n",
       "      <th></th>\n",
       "      <th>test_prep_course</th>\n",
       "      <th>math_score</th>\n",
       "      <th>reading_Score</th>\n",
       "      <th>writing_score</th>\n",
       "    </tr>\n",
       "  </thead>\n",
       "  <tbody>\n",
       "    <tr>\n",
       "      <th>0</th>\n",
       "      <td>0</td>\n",
       "      <td>72</td>\n",
       "      <td>72</td>\n",
       "      <td>74</td>\n",
       "    </tr>\n",
       "    <tr>\n",
       "      <th>1</th>\n",
       "      <td>1</td>\n",
       "      <td>69</td>\n",
       "      <td>90</td>\n",
       "      <td>88</td>\n",
       "    </tr>\n",
       "    <tr>\n",
       "      <th>2</th>\n",
       "      <td>0</td>\n",
       "      <td>90</td>\n",
       "      <td>95</td>\n",
       "      <td>93</td>\n",
       "    </tr>\n",
       "    <tr>\n",
       "      <th>3</th>\n",
       "      <td>0</td>\n",
       "      <td>47</td>\n",
       "      <td>57</td>\n",
       "      <td>44</td>\n",
       "    </tr>\n",
       "    <tr>\n",
       "      <th>4</th>\n",
       "      <td>0</td>\n",
       "      <td>76</td>\n",
       "      <td>78</td>\n",
       "      <td>75</td>\n",
       "    </tr>\n",
       "  </tbody>\n",
       "</table>\n",
       "</div>"
      ],
      "text/plain": [
       "   test_prep_course  math_score  reading_Score  writing_score\n",
       "0                 0          72             72             74\n",
       "1                 1          69             90             88\n",
       "2                 0          90             95             93\n",
       "3                 0          47             57             44\n",
       "4                 0          76             78             75"
      ]
     },
     "execution_count": 32,
     "metadata": {},
     "output_type": "execute_result"
    }
   ],
   "source": [
    "df.head()"
   ]
  },
  {
   "cell_type": "markdown",
   "id": "caf92baf",
   "metadata": {},
   "source": [
    "# Declaring Feature Vectors and Target Variables"
   ]
  },
  {
   "cell_type": "code",
   "execution_count": 33,
   "id": "cbafd747",
   "metadata": {},
   "outputs": [],
   "source": [
    "X = df\n",
    "\n",
    "y = df['test_prep_course']"
   ]
  },
  {
   "cell_type": "code",
   "execution_count": 34,
   "id": "65f99e39",
   "metadata": {},
   "outputs": [
    {
     "name": "stdout",
     "output_type": "stream",
     "text": [
      "<class 'pandas.core.frame.DataFrame'>\n",
      "RangeIndex: 1000 entries, 0 to 999\n",
      "Data columns (total 4 columns):\n",
      " #   Column            Non-Null Count  Dtype\n",
      "---  ------            --------------  -----\n",
      " 0   test_prep_course  1000 non-null   int64\n",
      " 1   math_score        1000 non-null   int64\n",
      " 2   reading_Score     1000 non-null   int64\n",
      " 3   writing_score     1000 non-null   int64\n",
      "dtypes: int64(4)\n",
      "memory usage: 31.4 KB\n"
     ]
    }
   ],
   "source": [
    "X.info()"
   ]
  },
  {
   "cell_type": "markdown",
   "id": "265684f7",
   "metadata": {},
   "source": [
    "Re-checking Dataset(X)"
   ]
  },
  {
   "cell_type": "code",
   "execution_count": 35,
   "id": "8cce294b",
   "metadata": {},
   "outputs": [
    {
     "data": {
      "text/html": [
       "<div>\n",
       "<style scoped>\n",
       "    .dataframe tbody tr th:only-of-type {\n",
       "        vertical-align: middle;\n",
       "    }\n",
       "\n",
       "    .dataframe tbody tr th {\n",
       "        vertical-align: top;\n",
       "    }\n",
       "\n",
       "    .dataframe thead th {\n",
       "        text-align: right;\n",
       "    }\n",
       "</style>\n",
       "<table border=\"1\" class=\"dataframe\">\n",
       "  <thead>\n",
       "    <tr style=\"text-align: right;\">\n",
       "      <th></th>\n",
       "      <th>test_prep_course</th>\n",
       "      <th>math_score</th>\n",
       "      <th>reading_Score</th>\n",
       "      <th>writing_score</th>\n",
       "    </tr>\n",
       "  </thead>\n",
       "  <tbody>\n",
       "    <tr>\n",
       "      <th>0</th>\n",
       "      <td>0</td>\n",
       "      <td>72</td>\n",
       "      <td>72</td>\n",
       "      <td>74</td>\n",
       "    </tr>\n",
       "    <tr>\n",
       "      <th>1</th>\n",
       "      <td>1</td>\n",
       "      <td>69</td>\n",
       "      <td>90</td>\n",
       "      <td>88</td>\n",
       "    </tr>\n",
       "    <tr>\n",
       "      <th>2</th>\n",
       "      <td>0</td>\n",
       "      <td>90</td>\n",
       "      <td>95</td>\n",
       "      <td>93</td>\n",
       "    </tr>\n",
       "    <tr>\n",
       "      <th>3</th>\n",
       "      <td>0</td>\n",
       "      <td>47</td>\n",
       "      <td>57</td>\n",
       "      <td>44</td>\n",
       "    </tr>\n",
       "    <tr>\n",
       "      <th>4</th>\n",
       "      <td>0</td>\n",
       "      <td>76</td>\n",
       "      <td>78</td>\n",
       "      <td>75</td>\n",
       "    </tr>\n",
       "  </tbody>\n",
       "</table>\n",
       "</div>"
      ],
      "text/plain": [
       "   test_prep_course  math_score  reading_Score  writing_score\n",
       "0                 0          72             72             74\n",
       "1                 1          69             90             88\n",
       "2                 0          90             95             93\n",
       "3                 0          47             57             44\n",
       "4                 0          76             78             75"
      ]
     },
     "execution_count": 35,
     "metadata": {},
     "output_type": "execute_result"
    }
   ],
   "source": [
    "X.head()"
   ]
  },
  {
   "cell_type": "markdown",
   "id": "aa37f4ee",
   "metadata": {},
   "source": [
    "# Incorporating Feature Scaling to the Dataset"
   ]
  },
  {
   "cell_type": "code",
   "execution_count": 36,
   "id": "2da42ecc",
   "metadata": {},
   "outputs": [],
   "source": [
    "cols = X.columns"
   ]
  },
  {
   "cell_type": "code",
   "execution_count": 37,
   "id": "c3186464",
   "metadata": {},
   "outputs": [],
   "source": [
    "from sklearn.preprocessing import MinMaxScaler\n",
    "ms = MinMaxScaler()\n",
    "X = ms.fit_transform(X)"
   ]
  },
  {
   "cell_type": "code",
   "execution_count": 38,
   "id": "713c80f6",
   "metadata": {},
   "outputs": [],
   "source": [
    "X = pd.DataFrame(X, columns=[cols])"
   ]
  },
  {
   "cell_type": "code",
   "execution_count": 39,
   "id": "55db1578",
   "metadata": {},
   "outputs": [
    {
     "data": {
      "text/html": [
       "<div>\n",
       "<style scoped>\n",
       "    .dataframe tbody tr th:only-of-type {\n",
       "        vertical-align: middle;\n",
       "    }\n",
       "\n",
       "    .dataframe tbody tr th {\n",
       "        vertical-align: top;\n",
       "    }\n",
       "\n",
       "    .dataframe thead tr th {\n",
       "        text-align: left;\n",
       "    }\n",
       "</style>\n",
       "<table border=\"1\" class=\"dataframe\">\n",
       "  <thead>\n",
       "    <tr>\n",
       "      <th></th>\n",
       "      <th>test_prep_course</th>\n",
       "      <th>math_score</th>\n",
       "      <th>reading_Score</th>\n",
       "      <th>writing_score</th>\n",
       "    </tr>\n",
       "  </thead>\n",
       "  <tbody>\n",
       "    <tr>\n",
       "      <th>0</th>\n",
       "      <td>0.0</td>\n",
       "      <td>0.72</td>\n",
       "      <td>0.662651</td>\n",
       "      <td>0.711111</td>\n",
       "    </tr>\n",
       "    <tr>\n",
       "      <th>1</th>\n",
       "      <td>1.0</td>\n",
       "      <td>0.69</td>\n",
       "      <td>0.879518</td>\n",
       "      <td>0.866667</td>\n",
       "    </tr>\n",
       "    <tr>\n",
       "      <th>2</th>\n",
       "      <td>0.0</td>\n",
       "      <td>0.90</td>\n",
       "      <td>0.939759</td>\n",
       "      <td>0.922222</td>\n",
       "    </tr>\n",
       "    <tr>\n",
       "      <th>3</th>\n",
       "      <td>0.0</td>\n",
       "      <td>0.47</td>\n",
       "      <td>0.481928</td>\n",
       "      <td>0.377778</td>\n",
       "    </tr>\n",
       "    <tr>\n",
       "      <th>4</th>\n",
       "      <td>0.0</td>\n",
       "      <td>0.76</td>\n",
       "      <td>0.734940</td>\n",
       "      <td>0.722222</td>\n",
       "    </tr>\n",
       "  </tbody>\n",
       "</table>\n",
       "</div>"
      ],
      "text/plain": [
       "  test_prep_course math_score reading_Score writing_score\n",
       "0              0.0       0.72      0.662651      0.711111\n",
       "1              1.0       0.69      0.879518      0.866667\n",
       "2              0.0       0.90      0.939759      0.922222\n",
       "3              0.0       0.47      0.481928      0.377778\n",
       "4              0.0       0.76      0.734940      0.722222"
      ]
     },
     "execution_count": 39,
     "metadata": {},
     "output_type": "execute_result"
    }
   ],
   "source": [
    "X.head()"
   ]
  },
  {
   "cell_type": "markdown",
   "id": "17ad3d18",
   "metadata": {},
   "source": [
    "# A) K-Means Clustering Method  (distance between points)"
   ]
  },
  {
   "cell_type": "markdown",
   "id": "6e46023b",
   "metadata": {},
   "source": [
    "# K-Means model with two clusters"
   ]
  },
  {
   "cell_type": "code",
   "execution_count": 38,
   "id": "27ddacf5",
   "metadata": {},
   "outputs": [
    {
     "data": {
      "text/html": [
       "<style>#sk-container-id-1 {color: black;background-color: white;}#sk-container-id-1 pre{padding: 0;}#sk-container-id-1 div.sk-toggleable {background-color: white;}#sk-container-id-1 label.sk-toggleable__label {cursor: pointer;display: block;width: 100%;margin-bottom: 0;padding: 0.3em;box-sizing: border-box;text-align: center;}#sk-container-id-1 label.sk-toggleable__label-arrow:before {content: \"▸\";float: left;margin-right: 0.25em;color: #696969;}#sk-container-id-1 label.sk-toggleable__label-arrow:hover:before {color: black;}#sk-container-id-1 div.sk-estimator:hover label.sk-toggleable__label-arrow:before {color: black;}#sk-container-id-1 div.sk-toggleable__content {max-height: 0;max-width: 0;overflow: hidden;text-align: left;background-color: #f0f8ff;}#sk-container-id-1 div.sk-toggleable__content pre {margin: 0.2em;color: black;border-radius: 0.25em;background-color: #f0f8ff;}#sk-container-id-1 input.sk-toggleable__control:checked~div.sk-toggleable__content {max-height: 200px;max-width: 100%;overflow: auto;}#sk-container-id-1 input.sk-toggleable__control:checked~label.sk-toggleable__label-arrow:before {content: \"▾\";}#sk-container-id-1 div.sk-estimator input.sk-toggleable__control:checked~label.sk-toggleable__label {background-color: #d4ebff;}#sk-container-id-1 div.sk-label input.sk-toggleable__control:checked~label.sk-toggleable__label {background-color: #d4ebff;}#sk-container-id-1 input.sk-hidden--visually {border: 0;clip: rect(1px 1px 1px 1px);clip: rect(1px, 1px, 1px, 1px);height: 1px;margin: -1px;overflow: hidden;padding: 0;position: absolute;width: 1px;}#sk-container-id-1 div.sk-estimator {font-family: monospace;background-color: #f0f8ff;border: 1px dotted black;border-radius: 0.25em;box-sizing: border-box;margin-bottom: 0.5em;}#sk-container-id-1 div.sk-estimator:hover {background-color: #d4ebff;}#sk-container-id-1 div.sk-parallel-item::after {content: \"\";width: 100%;border-bottom: 1px solid gray;flex-grow: 1;}#sk-container-id-1 div.sk-label:hover label.sk-toggleable__label {background-color: #d4ebff;}#sk-container-id-1 div.sk-serial::before {content: \"\";position: absolute;border-left: 1px solid gray;box-sizing: border-box;top: 0;bottom: 0;left: 50%;z-index: 0;}#sk-container-id-1 div.sk-serial {display: flex;flex-direction: column;align-items: center;background-color: white;padding-right: 0.2em;padding-left: 0.2em;position: relative;}#sk-container-id-1 div.sk-item {position: relative;z-index: 1;}#sk-container-id-1 div.sk-parallel {display: flex;align-items: stretch;justify-content: center;background-color: white;position: relative;}#sk-container-id-1 div.sk-item::before, #sk-container-id-1 div.sk-parallel-item::before {content: \"\";position: absolute;border-left: 1px solid gray;box-sizing: border-box;top: 0;bottom: 0;left: 50%;z-index: -1;}#sk-container-id-1 div.sk-parallel-item {display: flex;flex-direction: column;z-index: 1;position: relative;background-color: white;}#sk-container-id-1 div.sk-parallel-item:first-child::after {align-self: flex-end;width: 50%;}#sk-container-id-1 div.sk-parallel-item:last-child::after {align-self: flex-start;width: 50%;}#sk-container-id-1 div.sk-parallel-item:only-child::after {width: 0;}#sk-container-id-1 div.sk-dashed-wrapped {border: 1px dashed gray;margin: 0 0.4em 0.5em 0.4em;box-sizing: border-box;padding-bottom: 0.4em;background-color: white;}#sk-container-id-1 div.sk-label label {font-family: monospace;font-weight: bold;display: inline-block;line-height: 1.2em;}#sk-container-id-1 div.sk-label-container {text-align: center;}#sk-container-id-1 div.sk-container {/* jupyter's `normalize.less` sets `[hidden] { display: none; }` but bootstrap.min.css set `[hidden] { display: none !important; }` so we also need the `!important` here to be able to override the default hidden behavior on the sphinx rendered scikit-learn.org. See: https://github.com/scikit-learn/scikit-learn/issues/21755 */display: inline-block !important;position: relative;}#sk-container-id-1 div.sk-text-repr-fallback {display: none;}</style><div id=\"sk-container-id-1\" class=\"sk-top-container\"><div class=\"sk-text-repr-fallback\"><pre>KMeans(n_clusters=2, random_state=0)</pre><b>In a Jupyter environment, please rerun this cell to show the HTML representation or trust the notebook. <br />On GitHub, the HTML representation is unable to render, please try loading this page with nbviewer.org.</b></div><div class=\"sk-container\" hidden><div class=\"sk-item\"><div class=\"sk-estimator sk-toggleable\"><input class=\"sk-toggleable__control sk-hidden--visually\" id=\"sk-estimator-id-1\" type=\"checkbox\" checked><label for=\"sk-estimator-id-1\" class=\"sk-toggleable__label sk-toggleable__label-arrow\">KMeans</label><div class=\"sk-toggleable__content\"><pre>KMeans(n_clusters=2, random_state=0)</pre></div></div></div></div></div>"
      ],
      "text/plain": [
       "KMeans(n_clusters=2, random_state=0)"
      ]
     },
     "execution_count": 38,
     "metadata": {},
     "output_type": "execute_result"
    }
   ],
   "source": [
    "from sklearn.cluster import KMeans\n",
    "\n",
    "kmeans_2 = KMeans(n_clusters=2, random_state=0) \n",
    "\n",
    "kmeans_2.fit(X)"
   ]
  },
  {
   "cell_type": "markdown",
   "id": "66f0d084",
   "metadata": {},
   "source": [
    "K-Means Model Cluster centres"
   ]
  },
  {
   "cell_type": "code",
   "execution_count": 39,
   "id": "e46c65e0",
   "metadata": {},
   "outputs": [
    {
     "data": {
      "text/plain": [
       "array([[1.11022302e-15, 6.96955307e-01, 6.85468130e-01, 7.15766605e-01],\n",
       "       [1.00000000e+00, 6.40778816e-01, 5.96798409e-01, 6.05607477e-01]])"
      ]
     },
     "execution_count": 39,
     "metadata": {},
     "output_type": "execute_result"
    }
   ],
   "source": [
    "kmeans_2.cluster_centers_"
   ]
  },
  {
   "cell_type": "markdown",
   "id": "ca7edc04",
   "metadata": {},
   "source": [
    "K-Means Inertia with 2 clusters"
   ]
  },
  {
   "cell_type": "code",
   "execution_count": 40,
   "id": "0778f8e8",
   "metadata": {},
   "outputs": [
    {
     "data": {
      "text/plain": [
       "77.03808486882392"
      ]
     },
     "execution_count": 40,
     "metadata": {},
     "output_type": "execute_result"
    }
   ],
   "source": [
    "kmeans_2.inertia_"
   ]
  },
  {
   "cell_type": "markdown",
   "id": "71ca1db9",
   "metadata": {},
   "source": [
    " correctly labeled data"
   ]
  },
  {
   "cell_type": "code",
   "execution_count": 41,
   "id": "614aaef8",
   "metadata": {},
   "outputs": [
    {
     "name": "stdout",
     "output_type": "stream",
     "text": [
      "Result: 1000 out of 1000 samples were correctly labeled.\n"
     ]
    }
   ],
   "source": [
    "labels = kmeans_2.labels_\n",
    "true_labels = sum(y == labels)\n",
    "\n",
    "print(\"Result: %d out of %d samples were correctly labeled.\" % (true_labels, y.size))"
   ]
  },
  {
   "cell_type": "code",
   "execution_count": 42,
   "id": "6664956f",
   "metadata": {},
   "outputs": [
    {
     "name": "stdout",
     "output_type": "stream",
     "text": [
      "Accuracy score: 1.00\n"
     ]
    }
   ],
   "source": [
    "print('Accuracy score: {0:0.2f}'. format(true_labels/float(y.size)))"
   ]
  },
  {
   "cell_type": "markdown",
   "id": "9ce9a8e5",
   "metadata": {},
   "source": [
    "Generating a scatter plot based on the data"
   ]
  },
  {
   "cell_type": "code",
   "execution_count": 43,
   "id": "92b24b64",
   "metadata": {},
   "outputs": [
    {
     "data": {
      "text/plain": [
       "<matplotlib.collections.PathCollection at 0x26891c9c580>"
      ]
     },
     "execution_count": 43,
     "metadata": {},
     "output_type": "execute_result"
    },
    {
     "data": {
      "image/png": "[encoded data removed]",
      "text/plain": [
       "<Figure size 432x288 with 1 Axes>"
      ]
     },
     "metadata": {
      "needs_background": "light"
     },
     "output_type": "display_data"
    }
   ],
   "source": [
    "data = X.values[:, 0:3]\n",
    "category = X.values[:, 3]\n",
    "k = 2\n",
    " \n",
    "# Training data\n",
    "n = data.shape[0]\n",
    " \n",
    "# Number of features in the data\n",
    "c = data.shape[1]\n",
    " \n",
    "# Generating random centers\n",
    "mean = np.mean(data, axis = 0)\n",
    "std = np.std(data, axis = 0)\n",
    "centers = np.random.randn(k,c)*std + mean\n",
    " \n",
    "# Plotting data \n",
    "colors=['blue', 'yellow']\n",
    "for i in range(n):\n",
    "    plt.scatter(data[i, 0], data[i,1], s=7, color = colors[int(category[i])])\n",
    "plt.scatter(centers[:,0], centers[:,1], marker='.', c='r', s=150)"
   ]
  },
  {
   "cell_type": "markdown",
   "id": "eea91577",
   "metadata": {},
   "source": [
    "Generating an Elbow Plot by using the Elbow Method for Kmeans with 2 clusters"
   ]
  },
  {
   "cell_type": "code",
   "execution_count": 44,
   "id": "c097290e",
   "metadata": {},
   "outputs": [
    {
     "data": {
      "image/png": "[encoded data removed]",
      "text/plain": [
       "<Figure size 432x288 with 1 Axes>"
      ]
     },
     "metadata": {
      "needs_background": "light"
     },
     "output_type": "display_data"
    }
   ],
   "source": [
    "from sklearn.cluster import KMeans\n",
    "cs = []\n",
    "for i in range(1, 11):\n",
    "    kmeans_2 = KMeans(n_clusters = i, init = 'k-means++', max_iter = 300, n_init = 10, random_state = 0)\n",
    "    kmeans_2.fit(X)\n",
    "    cs.append(kmeans_2.inertia_)\n",
    "plt.plot(range(1, 11), cs)\n",
    "plt.title('The Elbow Method')\n",
    "plt.xlabel('Number of clusters')\n",
    "plt.ylabel('CS')\n",
    "plt.show()"
   ]
  },
  {
   "cell_type": "code",
   "execution_count": 45,
   "id": "53d1ae8d",
   "metadata": {},
   "outputs": [
    {
     "data": {
      "text/plain": [
       "2"
      ]
     },
     "execution_count": 45,
     "metadata": {},
     "output_type": "execute_result"
    }
   ],
   "source": [
    "#Determining potimal k value through programming using kneelocator\n",
    "from kneed import KneeLocator\n",
    "kl = KneeLocator( range(1, 11), cs, curve=\"convex\", direction=\"decreasing\" )\n",
    "\n",
    "kl.elbow"
   ]
  },
  {
   "cell_type": "markdown",
   "id": "9dc57816",
   "metadata": {},
   "source": [
    "The value above shows that the optimal value of Kmeans algorithm is that with 2 clusters as it can be seen  that it has a higher accuracy (100%) than the other two clusters(3 and 4) which falls short.\n",
    "The optimal value can be obtained by either reading the elbow plot or by programming by use of a KneeLocator as shown above."
   ]
  },
  {
   "cell_type": "markdown",
   "id": "a06d14e2",
   "metadata": {},
   "source": [
    "# K-Means with 3 Clusters"
   ]
  },
  {
   "cell_type": "code",
   "execution_count": 46,
   "id": "bd15bc77",
   "metadata": {},
   "outputs": [
    {
     "data": {
      "text/html": [
       "<style>#sk-container-id-2 {color: black;background-color: white;}#sk-container-id-2 pre{padding: 0;}#sk-container-id-2 div.sk-toggleable {background-color: white;}#sk-container-id-2 label.sk-toggleable__label {cursor: pointer;display: block;width: 100%;margin-bottom: 0;padding: 0.3em;box-sizing: border-box;text-align: center;}#sk-container-id-2 label.sk-toggleable__label-arrow:before {content: \"▸\";float: left;margin-right: 0.25em;color: #696969;}#sk-container-id-2 label.sk-toggleable__label-arrow:hover:before {color: black;}#sk-container-id-2 div.sk-estimator:hover label.sk-toggleable__label-arrow:before {color: black;}#sk-container-id-2 div.sk-toggleable__content {max-height: 0;max-width: 0;overflow: hidden;text-align: left;background-color: #f0f8ff;}#sk-container-id-2 div.sk-toggleable__content pre {margin: 0.2em;color: black;border-radius: 0.25em;background-color: #f0f8ff;}#sk-container-id-2 input.sk-toggleable__control:checked~div.sk-toggleable__content {max-height: 200px;max-width: 100%;overflow: auto;}#sk-container-id-2 input.sk-toggleable__control:checked~label.sk-toggleable__label-arrow:before {content: \"▾\";}#sk-container-id-2 div.sk-estimator input.sk-toggleable__control:checked~label.sk-toggleable__label {background-color: #d4ebff;}#sk-container-id-2 div.sk-label input.sk-toggleable__control:checked~label.sk-toggleable__label {background-color: #d4ebff;}#sk-container-id-2 input.sk-hidden--visually {border: 0;clip: rect(1px 1px 1px 1px);clip: rect(1px, 1px, 1px, 1px);height: 1px;margin: -1px;overflow: hidden;padding: 0;position: absolute;width: 1px;}#sk-container-id-2 div.sk-estimator {font-family: monospace;background-color: #f0f8ff;border: 1px dotted black;border-radius: 0.25em;box-sizing: border-box;margin-bottom: 0.5em;}#sk-container-id-2 div.sk-estimator:hover {background-color: #d4ebff;}#sk-container-id-2 div.sk-parallel-item::after {content: \"\";width: 100%;border-bottom: 1px solid gray;flex-grow: 1;}#sk-container-id-2 div.sk-label:hover label.sk-toggleable__label {background-color: #d4ebff;}#sk-container-id-2 div.sk-serial::before {content: \"\";position: absolute;border-left: 1px solid gray;box-sizing: border-box;top: 0;bottom: 0;left: 50%;z-index: 0;}#sk-container-id-2 div.sk-serial {display: flex;flex-direction: column;align-items: center;background-color: white;padding-right: 0.2em;padding-left: 0.2em;position: relative;}#sk-container-id-2 div.sk-item {position: relative;z-index: 1;}#sk-container-id-2 div.sk-parallel {display: flex;align-items: stretch;justify-content: center;background-color: white;position: relative;}#sk-container-id-2 div.sk-item::before, #sk-container-id-2 div.sk-parallel-item::before {content: \"\";position: absolute;border-left: 1px solid gray;box-sizing: border-box;top: 0;bottom: 0;left: 50%;z-index: -1;}#sk-container-id-2 div.sk-parallel-item {display: flex;flex-direction: column;z-index: 1;position: relative;background-color: white;}#sk-container-id-2 div.sk-parallel-item:first-child::after {align-self: flex-end;width: 50%;}#sk-container-id-2 div.sk-parallel-item:last-child::after {align-self: flex-start;width: 50%;}#sk-container-id-2 div.sk-parallel-item:only-child::after {width: 0;}#sk-container-id-2 div.sk-dashed-wrapped {border: 1px dashed gray;margin: 0 0.4em 0.5em 0.4em;box-sizing: border-box;padding-bottom: 0.4em;background-color: white;}#sk-container-id-2 div.sk-label label {font-family: monospace;font-weight: bold;display: inline-block;line-height: 1.2em;}#sk-container-id-2 div.sk-label-container {text-align: center;}#sk-container-id-2 div.sk-container {/* jupyter's `normalize.less` sets `[hidden] { display: none; }` but bootstrap.min.css set `[hidden] { display: none !important; }` so we also need the `!important` here to be able to override the default hidden behavior on the sphinx rendered scikit-learn.org. See: https://github.com/scikit-learn/scikit-learn/issues/21755 */display: inline-block !important;position: relative;}#sk-container-id-2 div.sk-text-repr-fallback {display: none;}</style><div id=\"sk-container-id-2\" class=\"sk-top-container\"><div class=\"sk-text-repr-fallback\"><pre>KMeans(n_clusters=3, random_state=0)</pre><b>In a Jupyter environment, please rerun this cell to show the HTML representation or trust the notebook. <br />On GitHub, the HTML representation is unable to render, please try loading this page with nbviewer.org.</b></div><div class=\"sk-container\" hidden><div class=\"sk-item\"><div class=\"sk-estimator sk-toggleable\"><input class=\"sk-toggleable__control sk-hidden--visually\" id=\"sk-estimator-id-2\" type=\"checkbox\" checked><label for=\"sk-estimator-id-2\" class=\"sk-toggleable__label sk-toggleable__label-arrow\">KMeans</label><div class=\"sk-toggleable__content\"><pre>KMeans(n_clusters=3, random_state=0)</pre></div></div></div></div></div>"
      ],
      "text/plain": [
       "KMeans(n_clusters=3, random_state=0)"
      ]
     },
     "execution_count": 46,
     "metadata": {},
     "output_type": "execute_result"
    }
   ],
   "source": [
    "kmeans_3 = KMeans(n_clusters=3, random_state=0)\n",
    "\n",
    "kmeans_3.fit(X)"
   ]
  },
  {
   "cell_type": "markdown",
   "id": "43963a6b",
   "metadata": {},
   "source": [
    " correctly labeled samples"
   ]
  },
  {
   "cell_type": "code",
   "execution_count": 47,
   "id": "1011428e",
   "metadata": {},
   "outputs": [
    {
     "name": "stdout",
     "output_type": "stream",
     "text": [
      "Result: 0 out of 1000 samples were correctly labeled.\n",
      "Accuracy score: 0.00\n"
     ]
    }
   ],
   "source": [
    "labels = kmeans_3.labels_\n",
    "\n",
    "true_labels = sum(y == labels)\n",
    "print(\"Result: %d out of %d samples were correctly labeled.\" % (true_labels, y.size))\n",
    "print('Accuracy score: {0:0.2f}'. format(true_labels/float(y.size)))"
   ]
  },
  {
   "cell_type": "code",
   "execution_count": 48,
   "id": "013f656d",
   "metadata": {},
   "outputs": [
    {
     "data": {
      "text/plain": [
       "array([[1.00000000e+00, 7.40664740e-01, 7.22926388e-01, 7.26718048e-01],\n",
       "       [1.11022302e-15, 6.96955307e-01, 6.85468130e-01, 7.15766605e-01],\n",
       "       [1.00000000e+00, 5.24020270e-01, 4.49365028e-01, 4.64039039e-01]])"
      ]
     },
     "execution_count": 48,
     "metadata": {},
     "output_type": "execute_result"
    }
   ],
   "source": [
    "kmeans_3.cluster_centers_"
   ]
  },
  {
   "cell_type": "markdown",
   "id": "3744b618",
   "metadata": {},
   "source": [
    "K-Means Inertia with 3 clusters"
   ]
  },
  {
   "cell_type": "code",
   "execution_count": 49,
   "id": "d2fc01f5",
   "metadata": {},
   "outputs": [
    {
     "data": {
      "text/plain": [
       "46.60496696149129"
      ]
     },
     "execution_count": 49,
     "metadata": {},
     "output_type": "execute_result"
    }
   ],
   "source": [
    "kmeans_3.inertia_"
   ]
  },
  {
   "cell_type": "markdown",
   "id": "6aacdf97",
   "metadata": {},
   "source": [
    "# K_Means with 4 Clusters"
   ]
  },
  {
   "cell_type": "code",
   "execution_count": 50,
   "id": "cb6eabba",
   "metadata": {},
   "outputs": [
    {
     "data": {
      "text/html": [
       "<style>#sk-container-id-3 {color: black;background-color: white;}#sk-container-id-3 pre{padding: 0;}#sk-container-id-3 div.sk-toggleable {background-color: white;}#sk-container-id-3 label.sk-toggleable__label {cursor: pointer;display: block;width: 100%;margin-bottom: 0;padding: 0.3em;box-sizing: border-box;text-align: center;}#sk-container-id-3 label.sk-toggleable__label-arrow:before {content: \"▸\";float: left;margin-right: 0.25em;color: #696969;}#sk-container-id-3 label.sk-toggleable__label-arrow:hover:before {color: black;}#sk-container-id-3 div.sk-estimator:hover label.sk-toggleable__label-arrow:before {color: black;}#sk-container-id-3 div.sk-toggleable__content {max-height: 0;max-width: 0;overflow: hidden;text-align: left;background-color: #f0f8ff;}#sk-container-id-3 div.sk-toggleable__content pre {margin: 0.2em;color: black;border-radius: 0.25em;background-color: #f0f8ff;}#sk-container-id-3 input.sk-toggleable__control:checked~div.sk-toggleable__content {max-height: 200px;max-width: 100%;overflow: auto;}#sk-container-id-3 input.sk-toggleable__control:checked~label.sk-toggleable__label-arrow:before {content: \"▾\";}#sk-container-id-3 div.sk-estimator input.sk-toggleable__control:checked~label.sk-toggleable__label {background-color: #d4ebff;}#sk-container-id-3 div.sk-label input.sk-toggleable__control:checked~label.sk-toggleable__label {background-color: #d4ebff;}#sk-container-id-3 input.sk-hidden--visually {border: 0;clip: rect(1px 1px 1px 1px);clip: rect(1px, 1px, 1px, 1px);height: 1px;margin: -1px;overflow: hidden;padding: 0;position: absolute;width: 1px;}#sk-container-id-3 div.sk-estimator {font-family: monospace;background-color: #f0f8ff;border: 1px dotted black;border-radius: 0.25em;box-sizing: border-box;margin-bottom: 0.5em;}#sk-container-id-3 div.sk-estimator:hover {background-color: #d4ebff;}#sk-container-id-3 div.sk-parallel-item::after {content: \"\";width: 100%;border-bottom: 1px solid gray;flex-grow: 1;}#sk-container-id-3 div.sk-label:hover label.sk-toggleable__label {background-color: #d4ebff;}#sk-container-id-3 div.sk-serial::before {content: \"\";position: absolute;border-left: 1px solid gray;box-sizing: border-box;top: 0;bottom: 0;left: 50%;z-index: 0;}#sk-container-id-3 div.sk-serial {display: flex;flex-direction: column;align-items: center;background-color: white;padding-right: 0.2em;padding-left: 0.2em;position: relative;}#sk-container-id-3 div.sk-item {position: relative;z-index: 1;}#sk-container-id-3 div.sk-parallel {display: flex;align-items: stretch;justify-content: center;background-color: white;position: relative;}#sk-container-id-3 div.sk-item::before, #sk-container-id-3 div.sk-parallel-item::before {content: \"\";position: absolute;border-left: 1px solid gray;box-sizing: border-box;top: 0;bottom: 0;left: 50%;z-index: -1;}#sk-container-id-3 div.sk-parallel-item {display: flex;flex-direction: column;z-index: 1;position: relative;background-color: white;}#sk-container-id-3 div.sk-parallel-item:first-child::after {align-self: flex-end;width: 50%;}#sk-container-id-3 div.sk-parallel-item:last-child::after {align-self: flex-start;width: 50%;}#sk-container-id-3 div.sk-parallel-item:only-child::after {width: 0;}#sk-container-id-3 div.sk-dashed-wrapped {border: 1px dashed gray;margin: 0 0.4em 0.5em 0.4em;box-sizing: border-box;padding-bottom: 0.4em;background-color: white;}#sk-container-id-3 div.sk-label label {font-family: monospace;font-weight: bold;display: inline-block;line-height: 1.2em;}#sk-container-id-3 div.sk-label-container {text-align: center;}#sk-container-id-3 div.sk-container {/* jupyter's `normalize.less` sets `[hidden] { display: none; }` but bootstrap.min.css set `[hidden] { display: none !important; }` so we also need the `!important` here to be able to override the default hidden behavior on the sphinx rendered scikit-learn.org. See: https://github.com/scikit-learn/scikit-learn/issues/21755 */display: inline-block !important;position: relative;}#sk-container-id-3 div.sk-text-repr-fallback {display: none;}</style><div id=\"sk-container-id-3\" class=\"sk-top-container\"><div class=\"sk-text-repr-fallback\"><pre>KMeans(n_clusters=4, random_state=0)</pre><b>In a Jupyter environment, please rerun this cell to show the HTML representation or trust the notebook. <br />On GitHub, the HTML representation is unable to render, please try loading this page with nbviewer.org.</b></div><div class=\"sk-container\" hidden><div class=\"sk-item\"><div class=\"sk-estimator sk-toggleable\"><input class=\"sk-toggleable__control sk-hidden--visually\" id=\"sk-estimator-id-3\" type=\"checkbox\" checked><label for=\"sk-estimator-id-3\" class=\"sk-toggleable__label sk-toggleable__label-arrow\">KMeans</label><div class=\"sk-toggleable__content\"><pre>KMeans(n_clusters=4, random_state=0)</pre></div></div></div></div></div>"
      ],
      "text/plain": [
       "KMeans(n_clusters=4, random_state=0)"
      ]
     },
     "execution_count": 50,
     "metadata": {},
     "output_type": "execute_result"
    }
   ],
   "source": [
    "kmeans_4 = KMeans(n_clusters=4, random_state=0)\n",
    "\n",
    "kmeans_4.fit(X)"
   ]
  },
  {
   "cell_type": "markdown",
   "id": "95051032",
   "metadata": {},
   "source": [
    "correctly labeled samples"
   ]
  },
  {
   "cell_type": "code",
   "execution_count": 51,
   "id": "b80663ce",
   "metadata": {},
   "outputs": [
    {
     "name": "stdout",
     "output_type": "stream",
     "text": [
      "Result: 545 out of 1000 samples were correctly labeled.\n",
      "Accuracy score: 0.55\n"
     ]
    }
   ],
   "source": [
    "labels = kmeans_4.labels_\n",
    "\n",
    "true_labels = sum(y == labels)\n",
    "print(\"Result: %d out of %d samples were correctly labeled.\" % (true_labels, y.size))\n",
    "print('Accuracy score: {0:0.2f}'. format(true_labels/float(y.size)))"
   ]
  },
  {
   "cell_type": "code",
   "execution_count": 52,
   "id": "0e9b7fcd",
   "metadata": {},
   "outputs": [
    {
     "data": {
      "text/plain": [
       "array([[-1.11022302e-15,  7.85373134e-01,  8.00755260e-01,\n",
       "         8.17689331e-01],\n",
       "       [ 1.00000000e+00,  7.41569767e-01,  7.23592043e-01,\n",
       "         7.27390181e-01],\n",
       "       [ 1.00000000e+00,  5.24429530e-01,  4.50432603e-01,\n",
       "         4.65026100e-01],\n",
       "       [-9.99200722e-16,  5.83757962e-01,  5.37871230e-01,\n",
       "         5.85279547e-01]])"
      ]
     },
     "execution_count": 52,
     "metadata": {},
     "output_type": "execute_result"
    }
   ],
   "source": [
    "kmeans_4.cluster_centers_"
   ]
  },
  {
   "cell_type": "markdown",
   "id": "41aa0412",
   "metadata": {},
   "source": [
    "K-Means Inertia with 4 clusters"
   ]
  },
  {
   "cell_type": "code",
   "execution_count": 53,
   "id": "f8163fbc",
   "metadata": {},
   "outputs": [
    {
     "data": {
      "text/plain": [
       "32.167604177172976"
      ]
     },
     "execution_count": 53,
     "metadata": {},
     "output_type": "execute_result"
    }
   ],
   "source": [
    "kmeans_4.inertia_"
   ]
  },
  {
   "cell_type": "markdown",
   "id": "44d7e193",
   "metadata": {},
   "source": [
    "Clustering Numerical Variable Results into a Box Plot"
   ]
  },
  {
   "cell_type": "code",
   "execution_count": 54,
   "id": "ee6bfd76",
   "metadata": {},
   "outputs": [
    {
     "data": {
      "image/png": "[encoded data removed]",
      "text/plain": [
       "<Figure size 432x288 with 1 Axes>"
      ]
     },
     "metadata": {
      "needs_background": "light"
     },
     "output_type": "display_data"
    }
   ],
   "source": [
    "num_cols = ['test_prep_course']\n",
    "\n",
    "for i in num_cols:\n",
    "    plt.figure(figsize = (6,4))\n",
    "    ax = sns.boxplot(data =X)\n",
    "    plt.title('\\nBox Plot {}\\n'.format(i), fontsize = 12)\n",
    "    plt.show()"
   ]
  },
  {
   "cell_type": "markdown",
   "id": "0a9f8571",
   "metadata": {},
   "source": [
    "# B) Dbscan [Density-based spatial clustering of applications with noise ] Clustering Method (distance between nearest points)"
   ]
  },
  {
   "cell_type": "code",
   "execution_count": 84,
   "id": "2668417b",
   "metadata": {},
   "outputs": [],
   "source": [
    "from sklearn.cluster import DBSCAN\n",
    "from sklearn.metrics import silhouette_score\n",
    "from sklearn.metrics import v_measure_score"
   ]
  },
  {
   "cell_type": "code",
   "execution_count": 86,
   "id": "b4d5495f",
   "metadata": {},
   "outputs": [
    {
     "data": {
      "text/plain": [
       "Text(0, 0.5, '$x_2$')"
      ]
     },
     "execution_count": 86,
     "metadata": {},
     "output_type": "execute_result"
    },
    {
     "data": {
      "image/png": "[encoded data removed]",
      "text/plain": [
       "<Figure size 432x288 with 1 Axes>"
      ]
     },
     "metadata": {
      "needs_background": "light"
     },
     "output_type": "display_data"
    }
   ],
   "source": [
    "plt.scatter(X.iloc[:, 0], X.iloc[:, 1], c=y, label=y)\n",
    "plt.xlabel(\"$x_1$\")\n",
    "plt.ylabel(\"$x_2$\")"
   ]
  },
  {
   "cell_type": "markdown",
   "id": "46d42b20",
   "metadata": {},
   "source": [
    "Fine-tuning parameters"
   ]
  },
  {
   "cell_type": "code",
   "execution_count": 87,
   "id": "369a4341",
   "metadata": {},
   "outputs": [
    {
     "data": {
      "text/html": [
       "<style>#sk-container-id-4 {color: black;background-color: white;}#sk-container-id-4 pre{padding: 0;}#sk-container-id-4 div.sk-toggleable {background-color: white;}#sk-container-id-4 label.sk-toggleable__label {cursor: pointer;display: block;width: 100%;margin-bottom: 0;padding: 0.3em;box-sizing: border-box;text-align: center;}#sk-container-id-4 label.sk-toggleable__label-arrow:before {content: \"▸\";float: left;margin-right: 0.25em;color: #696969;}#sk-container-id-4 label.sk-toggleable__label-arrow:hover:before {color: black;}#sk-container-id-4 div.sk-estimator:hover label.sk-toggleable__label-arrow:before {color: black;}#sk-container-id-4 div.sk-toggleable__content {max-height: 0;max-width: 0;overflow: hidden;text-align: left;background-color: #f0f8ff;}#sk-container-id-4 div.sk-toggleable__content pre {margin: 0.2em;color: black;border-radius: 0.25em;background-color: #f0f8ff;}#sk-container-id-4 input.sk-toggleable__control:checked~div.sk-toggleable__content {max-height: 200px;max-width: 100%;overflow: auto;}#sk-container-id-4 input.sk-toggleable__control:checked~label.sk-toggleable__label-arrow:before {content: \"▾\";}#sk-container-id-4 div.sk-estimator input.sk-toggleable__control:checked~label.sk-toggleable__label {background-color: #d4ebff;}#sk-container-id-4 div.sk-label input.sk-toggleable__control:checked~label.sk-toggleable__label {background-color: #d4ebff;}#sk-container-id-4 input.sk-hidden--visually {border: 0;clip: rect(1px 1px 1px 1px);clip: rect(1px, 1px, 1px, 1px);height: 1px;margin: -1px;overflow: hidden;padding: 0;position: absolute;width: 1px;}#sk-container-id-4 div.sk-estimator {font-family: monospace;background-color: #f0f8ff;border: 1px dotted black;border-radius: 0.25em;box-sizing: border-box;margin-bottom: 0.5em;}#sk-container-id-4 div.sk-estimator:hover {background-color: #d4ebff;}#sk-container-id-4 div.sk-parallel-item::after {content: \"\";width: 100%;border-bottom: 1px solid gray;flex-grow: 1;}#sk-container-id-4 div.sk-label:hover label.sk-toggleable__label {background-color: #d4ebff;}#sk-container-id-4 div.sk-serial::before {content: \"\";position: absolute;border-left: 1px solid gray;box-sizing: border-box;top: 0;bottom: 0;left: 50%;z-index: 0;}#sk-container-id-4 div.sk-serial {display: flex;flex-direction: column;align-items: center;background-color: white;padding-right: 0.2em;padding-left: 0.2em;position: relative;}#sk-container-id-4 div.sk-item {position: relative;z-index: 1;}#sk-container-id-4 div.sk-parallel {display: flex;align-items: stretch;justify-content: center;background-color: white;position: relative;}#sk-container-id-4 div.sk-item::before, #sk-container-id-4 div.sk-parallel-item::before {content: \"\";position: absolute;border-left: 1px solid gray;box-sizing: border-box;top: 0;bottom: 0;left: 50%;z-index: -1;}#sk-container-id-4 div.sk-parallel-item {display: flex;flex-direction: column;z-index: 1;position: relative;background-color: white;}#sk-container-id-4 div.sk-parallel-item:first-child::after {align-self: flex-end;width: 50%;}#sk-container-id-4 div.sk-parallel-item:last-child::after {align-self: flex-start;width: 50%;}#sk-container-id-4 div.sk-parallel-item:only-child::after {width: 0;}#sk-container-id-4 div.sk-dashed-wrapped {border: 1px dashed gray;margin: 0 0.4em 0.5em 0.4em;box-sizing: border-box;padding-bottom: 0.4em;background-color: white;}#sk-container-id-4 div.sk-label label {font-family: monospace;font-weight: bold;display: inline-block;line-height: 1.2em;}#sk-container-id-4 div.sk-label-container {text-align: center;}#sk-container-id-4 div.sk-container {/* jupyter's `normalize.less` sets `[hidden] { display: none; }` but bootstrap.min.css set `[hidden] { display: none !important; }` so we also need the `!important` here to be able to override the default hidden behavior on the sphinx rendered scikit-learn.org. See: https://github.com/scikit-learn/scikit-learn/issues/21755 */display: inline-block !important;position: relative;}#sk-container-id-4 div.sk-text-repr-fallback {display: none;}</style><div id=\"sk-container-id-4\" class=\"sk-top-container\"><div class=\"sk-text-repr-fallback\"><pre>DBSCAN()</pre><b>In a Jupyter environment, please rerun this cell to show the HTML representation or trust the notebook. <br />On GitHub, the HTML representation is unable to render, please try loading this page with nbviewer.org.</b></div><div class=\"sk-container\" hidden><div class=\"sk-item\"><div class=\"sk-estimator sk-toggleable\"><input class=\"sk-toggleable__control sk-hidden--visually\" id=\"sk-estimator-id-4\" type=\"checkbox\" checked><label for=\"sk-estimator-id-4\" class=\"sk-toggleable__label sk-toggleable__label-arrow\">DBSCAN</label><div class=\"sk-toggleable__content\"><pre>DBSCAN()</pre></div></div></div></div></div>"
      ],
      "text/plain": [
       "DBSCAN()"
      ]
     },
     "execution_count": 87,
     "metadata": {},
     "output_type": "execute_result"
    }
   ],
   "source": [
    "dbscan_cluster1 = DBSCAN()\n",
    "dbscan_cluster1.fit(X)"
   ]
  },
  {
   "cell_type": "markdown",
   "id": "40b1ca56",
   "metadata": {},
   "source": [
    "Visualizing DBSCAN"
   ]
  },
  {
   "cell_type": "code",
   "execution_count": 89,
   "id": "ca591190",
   "metadata": {},
   "outputs": [
    {
     "data": {
      "text/plain": [
       "Text(0, 0.5, '$x_2$')"
      ]
     },
     "execution_count": 89,
     "metadata": {},
     "output_type": "execute_result"
    },
    {
     "data": {
      "image/png": "[encoded data removed]",
      "text/plain": [
       "<Figure size 432x288 with 1 Axes>"
      ]
     },
     "metadata": {
      "needs_background": "light"
     },
     "output_type": "display_data"
    }
   ],
   "source": [
    "plt.scatter(X.iloc[:, 0], \n",
    "            X.iloc[:, 1], \n",
    "            c=dbscan_cluster1.labels_, \n",
    "            label=y)\n",
    "plt.xlabel(\"$x_1$\")\n",
    "plt.ylabel(\"$x_2$\")"
   ]
  },
  {
   "cell_type": "markdown",
   "id": "61c36c09",
   "metadata": {},
   "source": [
    " Setting Number of Clusters"
   ]
  },
  {
   "cell_type": "code",
   "execution_count": 91,
   "id": "910d2a38",
   "metadata": {},
   "outputs": [
    {
     "name": "stdout",
     "output_type": "stream",
     "text": [
      "Estimated no. of clusters: 2\n"
     ]
    }
   ],
   "source": [
    "labels=dbscan_cluster1.labels_\n",
    "N_clus=len(set(labels))-(1 if -1 in labels else 0)\n",
    "print('Estimated no. of clusters: %d' % N_clus)"
   ]
  },
  {
   "cell_type": "markdown",
   "id": "aff011a3",
   "metadata": {},
   "source": [
    "Identifying Noise"
   ]
  },
  {
   "cell_type": "code",
   "execution_count": 92,
   "id": "85423035",
   "metadata": {},
   "outputs": [
    {
     "name": "stdout",
     "output_type": "stream",
     "text": [
      "Estimated no. of noise points: 0\n"
     ]
    }
   ],
   "source": [
    "\n",
    "n_noise = list(dbscan_cluster1.labels_).count(-1)\n",
    "print('Estimated no. of noise points: %d' % n_noise)"
   ]
  },
  {
   "cell_type": "markdown",
   "id": "0146c9d7",
   "metadata": {},
   "source": [
    "Calculating v_measure results"
   ]
  },
  {
   "cell_type": "code",
   "execution_count": 93,
   "id": "721e29ed",
   "metadata": {},
   "outputs": [
    {
     "name": "stdout",
     "output_type": "stream",
     "text": [
      "v_measure = 1.0\n"
     ]
    }
   ],
   "source": [
    "print('v_measure =', v_measure_score(y, labels))"
   ]
  },
  {
   "cell_type": "markdown",
   "id": "ab6ff405",
   "metadata": {},
   "source": [
    "DBSCAN is used with eps = 0.1 and min samples = 8"
   ]
  },
  {
   "cell_type": "code",
   "execution_count": 94,
   "id": "bd234439",
   "metadata": {},
   "outputs": [
    {
     "data": {
      "text/html": [
       "<style>#sk-container-id-5 {color: black;background-color: white;}#sk-container-id-5 pre{padding: 0;}#sk-container-id-5 div.sk-toggleable {background-color: white;}#sk-container-id-5 label.sk-toggleable__label {cursor: pointer;display: block;width: 100%;margin-bottom: 0;padding: 0.3em;box-sizing: border-box;text-align: center;}#sk-container-id-5 label.sk-toggleable__label-arrow:before {content: \"▸\";float: left;margin-right: 0.25em;color: #696969;}#sk-container-id-5 label.sk-toggleable__label-arrow:hover:before {color: black;}#sk-container-id-5 div.sk-estimator:hover label.sk-toggleable__label-arrow:before {color: black;}#sk-container-id-5 div.sk-toggleable__content {max-height: 0;max-width: 0;overflow: hidden;text-align: left;background-color: #f0f8ff;}#sk-container-id-5 div.sk-toggleable__content pre {margin: 0.2em;color: black;border-radius: 0.25em;background-color: #f0f8ff;}#sk-container-id-5 input.sk-toggleable__control:checked~div.sk-toggleable__content {max-height: 200px;max-width: 100%;overflow: auto;}#sk-container-id-5 input.sk-toggleable__control:checked~label.sk-toggleable__label-arrow:before {content: \"▾\";}#sk-container-id-5 div.sk-estimator input.sk-toggleable__control:checked~label.sk-toggleable__label {background-color: #d4ebff;}#sk-container-id-5 div.sk-label input.sk-toggleable__control:checked~label.sk-toggleable__label {background-color: #d4ebff;}#sk-container-id-5 input.sk-hidden--visually {border: 0;clip: rect(1px 1px 1px 1px);clip: rect(1px, 1px, 1px, 1px);height: 1px;margin: -1px;overflow: hidden;padding: 0;position: absolute;width: 1px;}#sk-container-id-5 div.sk-estimator {font-family: monospace;background-color: #f0f8ff;border: 1px dotted black;border-radius: 0.25em;box-sizing: border-box;margin-bottom: 0.5em;}#sk-container-id-5 div.sk-estimator:hover {background-color: #d4ebff;}#sk-container-id-5 div.sk-parallel-item::after {content: \"\";width: 100%;border-bottom: 1px solid gray;flex-grow: 1;}#sk-container-id-5 div.sk-label:hover label.sk-toggleable__label {background-color: #d4ebff;}#sk-container-id-5 div.sk-serial::before {content: \"\";position: absolute;border-left: 1px solid gray;box-sizing: border-box;top: 0;bottom: 0;left: 50%;z-index: 0;}#sk-container-id-5 div.sk-serial {display: flex;flex-direction: column;align-items: center;background-color: white;padding-right: 0.2em;padding-left: 0.2em;position: relative;}#sk-container-id-5 div.sk-item {position: relative;z-index: 1;}#sk-container-id-5 div.sk-parallel {display: flex;align-items: stretch;justify-content: center;background-color: white;position: relative;}#sk-container-id-5 div.sk-item::before, #sk-container-id-5 div.sk-parallel-item::before {content: \"\";position: absolute;border-left: 1px solid gray;box-sizing: border-box;top: 0;bottom: 0;left: 50%;z-index: -1;}#sk-container-id-5 div.sk-parallel-item {display: flex;flex-direction: column;z-index: 1;position: relative;background-color: white;}#sk-container-id-5 div.sk-parallel-item:first-child::after {align-self: flex-end;width: 50%;}#sk-container-id-5 div.sk-parallel-item:last-child::after {align-self: flex-start;width: 50%;}#sk-container-id-5 div.sk-parallel-item:only-child::after {width: 0;}#sk-container-id-5 div.sk-dashed-wrapped {border: 1px dashed gray;margin: 0 0.4em 0.5em 0.4em;box-sizing: border-box;padding-bottom: 0.4em;background-color: white;}#sk-container-id-5 div.sk-label label {font-family: monospace;font-weight: bold;display: inline-block;line-height: 1.2em;}#sk-container-id-5 div.sk-label-container {text-align: center;}#sk-container-id-5 div.sk-container {/* jupyter's `normalize.less` sets `[hidden] { display: none; }` but bootstrap.min.css set `[hidden] { display: none !important; }` so we also need the `!important` here to be able to override the default hidden behavior on the sphinx rendered scikit-learn.org. See: https://github.com/scikit-learn/scikit-learn/issues/21755 */display: inline-block !important;position: relative;}#sk-container-id-5 div.sk-text-repr-fallback {display: none;}</style><div id=\"sk-container-id-5\" class=\"sk-top-container\"><div class=\"sk-text-repr-fallback\"><pre>DBSCAN(eps=0.1, min_samples=8)</pre><b>In a Jupyter environment, please rerun this cell to show the HTML representation or trust the notebook. <br />On GitHub, the HTML representation is unable to render, please try loading this page with nbviewer.org.</b></div><div class=\"sk-container\" hidden><div class=\"sk-item\"><div class=\"sk-estimator sk-toggleable\"><input class=\"sk-toggleable__control sk-hidden--visually\" id=\"sk-estimator-id-5\" type=\"checkbox\" checked><label for=\"sk-estimator-id-5\" class=\"sk-toggleable__label sk-toggleable__label-arrow\">DBSCAN</label><div class=\"sk-toggleable__content\"><pre>DBSCAN(eps=0.1, min_samples=8)</pre></div></div></div></div></div>"
      ],
      "text/plain": [
       "DBSCAN(eps=0.1, min_samples=8)"
      ]
     },
     "execution_count": 94,
     "metadata": {},
     "output_type": "execute_result"
    }
   ],
   "source": [
    "dbscan_cluster = DBSCAN(eps=0.1, min_samples=8)\n",
    "dbscan_cluster.fit(X)"
   ]
  },
  {
   "cell_type": "markdown",
   "id": "d84a8917",
   "metadata": {},
   "source": [
    "Visualizing DBSCAN results"
   ]
  },
  {
   "cell_type": "code",
   "execution_count": 96,
   "id": "5638578e",
   "metadata": {},
   "outputs": [
    {
     "data": {
      "text/plain": [
       "Text(0, 0.5, '$x_2$')"
      ]
     },
     "execution_count": 96,
     "metadata": {},
     "output_type": "execute_result"
    },
    {
     "data": {
      "image/png": "[encoded data removed]",
      "text/plain": [
       "<Figure size 432x288 with 1 Axes>"
      ]
     },
     "metadata": {
      "needs_background": "light"
     },
     "output_type": "display_data"
    }
   ],
   "source": [
    "plt.scatter(X.iloc[:, 0], \n",
    "X.iloc[:, 1], \n",
    "c=dbscan_cluster.labels_, \n",
    "label=y)\n",
    "plt.xlabel(\"$x_1$\")\n",
    "plt.ylabel(\"$x_2$\")"
   ]
  },
  {
   "cell_type": "markdown",
   "id": "86df27ae",
   "metadata": {},
   "source": [
    "Estimated Number of Clusters"
   ]
  },
  {
   "cell_type": "code",
   "execution_count": 97,
   "id": "24e895f2",
   "metadata": {},
   "outputs": [
    {
     "name": "stdout",
     "output_type": "stream",
     "text": [
      "Estimated no. of clusters: 2\n"
     ]
    }
   ],
   "source": [
    "labels=dbscan_cluster.labels_\n",
    "N_clus=len(set(labels))-(1 if -1 in labels else 0)\n",
    "print('Estimated no. of clusters: %d' % N_clus)"
   ]
  },
  {
   "cell_type": "markdown",
   "id": "b058c6fe",
   "metadata": {},
   "source": [
    "Identifying Noise in the data"
   ]
  },
  {
   "cell_type": "code",
   "execution_count": 98,
   "id": "f52448be",
   "metadata": {},
   "outputs": [
    {
     "name": "stdout",
     "output_type": "stream",
     "text": [
      "Estimated no. of noise points: 16\n"
     ]
    }
   ],
   "source": [
    "n_noise = list(dbscan_cluster.labels_).count(-1)\n",
    "print('Estimated no. of noise points: %d' % n_noise)"
   ]
  },
  {
   "cell_type": "markdown",
   "id": "3df22661",
   "metadata": {},
   "source": [
    "Calculating the v_measure score"
   ]
  },
  {
   "cell_type": "code",
   "execution_count": 99,
   "id": "64b0b6f7",
   "metadata": {},
   "outputs": [
    {
     "name": "stdout",
     "output_type": "stream",
     "text": [
      "v_measure = 0.9327598953624114\n"
     ]
    }
   ],
   "source": [
    "print('v_measure =', v_measure_score(y, labels))"
   ]
  },
  {
   "cell_type": "markdown",
   "id": "579f37dd",
   "metadata": {},
   "source": [
    "As can be seen, this algorithm generates far too many clusters.\n",
    "With a v measure score of 0.93, it generates 2 clusters and identifies 16 points as noise."
   ]
  },
  {
   "cell_type": "markdown",
   "id": "4338c77a",
   "metadata": {},
   "source": [
    "Finding the Optimal Epsilon Value"
   ]
  },
  {
   "cell_type": "code",
   "execution_count": 100,
   "id": "31694d22",
   "metadata": {},
   "outputs": [],
   "source": [
    "from sklearn.neighbors import NearestNeighbors\n",
    "\n",
    "nearest_neighbors = NearestNeighbors(n_neighbors=11)\n",
    "neighbors = nearest_neighbors.fit(X)"
   ]
  },
  {
   "cell_type": "code",
   "execution_count": 101,
   "id": "e183ff55",
   "metadata": {},
   "outputs": [],
   "source": [
    "distances, indices = neighbors.kneighbors(X)\n",
    "distances = np.sort(distances[:,10], axis=0)"
   ]
  },
  {
   "cell_type": "code",
   "execution_count": 102,
   "id": "2ca04b76",
   "metadata": {},
   "outputs": [
    {
     "data": {
      "text/plain": [
       "Text(0, 0.5, 'Distance')"
      ]
     },
     "execution_count": 102,
     "metadata": {},
     "output_type": "execute_result"
    },
    {
     "data": {
      "image/png": "[encoded data removed]",
      "text/plain": [
       "<Figure size 360x360 with 1 Axes>"
      ]
     },
     "metadata": {
      "needs_background": "light"
     },
     "output_type": "display_data"
    }
   ],
   "source": [
    "fig = plt.figure(figsize=(5, 5))\n",
    "plt.plot(distances)\n",
    "plt.xlabel(\"Points\")\n",
    "plt.ylabel(\"Distance\")"
   ]
  },
  {
   "cell_type": "markdown",
   "id": "e823b96f",
   "metadata": {},
   "source": [
    "# Elbow Point Detection Using a Kneed Package"
   ]
  },
  {
   "cell_type": "markdown",
   "id": "c5a5c8ec",
   "metadata": {},
   "source": [
    "Visually determining the maximum curvature can be difficult. To detect the knee or elbow point, a Python package called kneed can be used. 'pip install kneed' will install it."
   ]
  },
  {
   "cell_type": "markdown",
   "id": "0fb84096",
   "metadata": {},
   "source": [
    "Using the package below, we can see that the elbow point is at 0.08778627763746948, which is the best value of epsilon to use now."
   ]
  },
  {
   "cell_type": "code",
   "execution_count": 103,
   "id": "187aa06a",
   "metadata": {},
   "outputs": [],
   "source": [
    "from kneed import KneeLocator\n",
    "\n",
    "i = np.arange(len(distances))\n",
    "knee = KneeLocator(i, distances, S=1, curve='convex', direction='increasing', interp_method='polynomial')\n"
   ]
  },
  {
   "cell_type": "code",
   "execution_count": 104,
   "id": "2f116919",
   "metadata": {},
   "outputs": [
    {
     "data": {
      "text/plain": [
       "Text(0, 0.5, 'Distance')"
      ]
     },
     "execution_count": 104,
     "metadata": {},
     "output_type": "execute_result"
    },
    {
     "data": {
      "text/plain": [
       "<Figure size 360x360 with 0 Axes>"
      ]
     },
     "metadata": {},
     "output_type": "display_data"
    },
    {
     "data": {
      "image/png": "[encoded data removed]",
      "text/plain": [
       "<Figure size 432x432 with 1 Axes>"
      ]
     },
     "metadata": {
      "needs_background": "light"
     },
     "output_type": "display_data"
    }
   ],
   "source": [
    "fig = plt.figure(figsize=(5, 5))\n",
    "knee.plot_knee()\n",
    "plt.xlabel(\"Points\")\n",
    "plt.ylabel(\"Distance\")"
   ]
  },
  {
   "cell_type": "code",
   "execution_count": 105,
   "id": "f7883300",
   "metadata": {},
   "outputs": [
    {
     "name": "stdout",
     "output_type": "stream",
     "text": [
      "0.08778627763746948\n"
     ]
    }
   ],
   "source": [
    "print(distances[knee.knee])"
   ]
  },
  {
   "cell_type": "markdown",
   "id": "dd20b45b",
   "metadata": {},
   "source": [
    "# Using DBSCAN with the optimal Epsilon value of 0.08778627763746948"
   ]
  },
  {
   "cell_type": "markdown",
   "id": "f60c6597",
   "metadata": {},
   "source": [
    "Now that we've determined the optimal value of epsilon as 0.08778627763746948, let's apply it to the DBSCAN algorithm."
   ]
  },
  {
   "cell_type": "markdown",
   "id": "88f726e1",
   "metadata": {},
   "source": [
    "This time, the DBSCAN clustering is clearly done correctly, with three clusters and only 21 noise points. With a value of 0.892457390813195, the v measure score is also satisfactory."
   ]
  },
  {
   "cell_type": "code",
   "execution_count": 112,
   "id": "097cbfd7",
   "metadata": {},
   "outputs": [
    {
     "data": {
      "text/html": [
       "<style>#sk-container-id-7 {color: black;background-color: white;}#sk-container-id-7 pre{padding: 0;}#sk-container-id-7 div.sk-toggleable {background-color: white;}#sk-container-id-7 label.sk-toggleable__label {cursor: pointer;display: block;width: 100%;margin-bottom: 0;padding: 0.3em;box-sizing: border-box;text-align: center;}#sk-container-id-7 label.sk-toggleable__label-arrow:before {content: \"▸\";float: left;margin-right: 0.25em;color: #696969;}#sk-container-id-7 label.sk-toggleable__label-arrow:hover:before {color: black;}#sk-container-id-7 div.sk-estimator:hover label.sk-toggleable__label-arrow:before {color: black;}#sk-container-id-7 div.sk-toggleable__content {max-height: 0;max-width: 0;overflow: hidden;text-align: left;background-color: #f0f8ff;}#sk-container-id-7 div.sk-toggleable__content pre {margin: 0.2em;color: black;border-radius: 0.25em;background-color: #f0f8ff;}#sk-container-id-7 input.sk-toggleable__control:checked~div.sk-toggleable__content {max-height: 200px;max-width: 100%;overflow: auto;}#sk-container-id-7 input.sk-toggleable__control:checked~label.sk-toggleable__label-arrow:before {content: \"▾\";}#sk-container-id-7 div.sk-estimator input.sk-toggleable__control:checked~label.sk-toggleable__label {background-color: #d4ebff;}#sk-container-id-7 div.sk-label input.sk-toggleable__control:checked~label.sk-toggleable__label {background-color: #d4ebff;}#sk-container-id-7 input.sk-hidden--visually {border: 0;clip: rect(1px 1px 1px 1px);clip: rect(1px, 1px, 1px, 1px);height: 1px;margin: -1px;overflow: hidden;padding: 0;position: absolute;width: 1px;}#sk-container-id-7 div.sk-estimator {font-family: monospace;background-color: #f0f8ff;border: 1px dotted black;border-radius: 0.25em;box-sizing: border-box;margin-bottom: 0.5em;}#sk-container-id-7 div.sk-estimator:hover {background-color: #d4ebff;}#sk-container-id-7 div.sk-parallel-item::after {content: \"\";width: 100%;border-bottom: 1px solid gray;flex-grow: 1;}#sk-container-id-7 div.sk-label:hover label.sk-toggleable__label {background-color: #d4ebff;}#sk-container-id-7 div.sk-serial::before {content: \"\";position: absolute;border-left: 1px solid gray;box-sizing: border-box;top: 0;bottom: 0;left: 50%;z-index: 0;}#sk-container-id-7 div.sk-serial {display: flex;flex-direction: column;align-items: center;background-color: white;padding-right: 0.2em;padding-left: 0.2em;position: relative;}#sk-container-id-7 div.sk-item {position: relative;z-index: 1;}#sk-container-id-7 div.sk-parallel {display: flex;align-items: stretch;justify-content: center;background-color: white;position: relative;}#sk-container-id-7 div.sk-item::before, #sk-container-id-7 div.sk-parallel-item::before {content: \"\";position: absolute;border-left: 1px solid gray;box-sizing: border-box;top: 0;bottom: 0;left: 50%;z-index: -1;}#sk-container-id-7 div.sk-parallel-item {display: flex;flex-direction: column;z-index: 1;position: relative;background-color: white;}#sk-container-id-7 div.sk-parallel-item:first-child::after {align-self: flex-end;width: 50%;}#sk-container-id-7 div.sk-parallel-item:last-child::after {align-self: flex-start;width: 50%;}#sk-container-id-7 div.sk-parallel-item:only-child::after {width: 0;}#sk-container-id-7 div.sk-dashed-wrapped {border: 1px dashed gray;margin: 0 0.4em 0.5em 0.4em;box-sizing: border-box;padding-bottom: 0.4em;background-color: white;}#sk-container-id-7 div.sk-label label {font-family: monospace;font-weight: bold;display: inline-block;line-height: 1.2em;}#sk-container-id-7 div.sk-label-container {text-align: center;}#sk-container-id-7 div.sk-container {/* jupyter's `normalize.less` sets `[hidden] { display: none; }` but bootstrap.min.css set `[hidden] { display: none !important; }` so we also need the `!important` here to be able to override the default hidden behavior on the sphinx rendered scikit-learn.org. See: https://github.com/scikit-learn/scikit-learn/issues/21755 */display: inline-block !important;position: relative;}#sk-container-id-7 div.sk-text-repr-fallback {display: none;}</style><div id=\"sk-container-id-7\" class=\"sk-top-container\"><div class=\"sk-text-repr-fallback\"><pre>DBSCAN(eps=0.088, min_samples=8)</pre><b>In a Jupyter environment, please rerun this cell to show the HTML representation or trust the notebook. <br />On GitHub, the HTML representation is unable to render, please try loading this page with nbviewer.org.</b></div><div class=\"sk-container\" hidden><div class=\"sk-item\"><div class=\"sk-estimator sk-toggleable\"><input class=\"sk-toggleable__control sk-hidden--visually\" id=\"sk-estimator-id-7\" type=\"checkbox\" checked><label for=\"sk-estimator-id-7\" class=\"sk-toggleable__label sk-toggleable__label-arrow\">DBSCAN</label><div class=\"sk-toggleable__content\"><pre>DBSCAN(eps=0.088, min_samples=8)</pre></div></div></div></div></div>"
      ],
      "text/plain": [
       "DBSCAN(eps=0.088, min_samples=8)"
      ]
     },
     "execution_count": 112,
     "metadata": {},
     "output_type": "execute_result"
    }
   ],
   "source": [
    "dbscan_cluster = DBSCAN(eps=0.088, min_samples=8)\n",
    "dbscan_cluster.fit(X)"
   ]
  },
  {
   "cell_type": "markdown",
   "id": "6a190e03",
   "metadata": {},
   "source": [
    "Visualizing the DBSCAN Results"
   ]
  },
  {
   "cell_type": "code",
   "execution_count": 113,
   "id": "a12e95c8",
   "metadata": {},
   "outputs": [
    {
     "data": {
      "text/plain": [
       "Text(0, 0.5, '$x_2$')"
      ]
     },
     "execution_count": 113,
     "metadata": {},
     "output_type": "execute_result"
    },
    {
     "data": {
      "image/png": "[encoded data removed]",
      "text/plain": [
       "<Figure size 432x288 with 1 Axes>"
      ]
     },
     "metadata": {
      "needs_background": "light"
     },
     "output_type": "display_data"
    }
   ],
   "source": [
    "plt.scatter(X.iloc[:, 0], \n",
    "X.iloc[:, 1], \n",
    "c=dbscan_cluster.labels_, \n",
    "label=y)\n",
    "plt.xlabel(\"$x_1$\")\n",
    "plt.ylabel(\"$x_2$\")"
   ]
  },
  {
   "cell_type": "markdown",
   "id": "d549f6bc",
   "metadata": {},
   "source": [
    "Estimated Number of Clusters"
   ]
  },
  {
   "cell_type": "code",
   "execution_count": 114,
   "id": "34e723f4",
   "metadata": {},
   "outputs": [
    {
     "name": "stdout",
     "output_type": "stream",
     "text": [
      "Estimated no. of clusters: 3\n"
     ]
    }
   ],
   "source": [
    "labels=dbscan_cluster.labels_\n",
    "N_clus=len(set(labels))-(1 if -1 in labels else 0)\n",
    "print('Estimated no. of clusters: %d' % N_clus)"
   ]
  },
  {
   "cell_type": "markdown",
   "id": "96d26bf4",
   "metadata": {},
   "source": [
    "Identifying Noise"
   ]
  },
  {
   "cell_type": "code",
   "execution_count": 115,
   "id": "b18683a2",
   "metadata": {},
   "outputs": [
    {
     "name": "stdout",
     "output_type": "stream",
     "text": [
      "Estimated no. of noise points: 21\n"
     ]
    }
   ],
   "source": [
    "n_noise = list(dbscan_cluster.labels_).count(-1)\n",
    "print('Estimated no. of noise points: %d' % n_noise)"
   ]
  },
  {
   "cell_type": "markdown",
   "id": "4eb83ef1",
   "metadata": {},
   "source": [
    "Calculating the v_measure results"
   ]
  },
  {
   "cell_type": "code",
   "execution_count": 116,
   "id": "b6412f18",
   "metadata": {},
   "outputs": [
    {
     "name": "stdout",
     "output_type": "stream",
     "text": [
      "v_measure = 0.892457390813195\n"
     ]
    }
   ],
   "source": [
    "print('v_measure =', v_measure_score(y, labels))"
   ]
  },
  {
   "cell_type": "markdown",
   "id": "9a8e5e12",
   "metadata": {},
   "source": [
    "# C) Algomerative Clustering Method (Bottom -Up Hierarchical Clustering Method)"
   ]
  },
  {
   "cell_type": "markdown",
   "id": "1062e859",
   "metadata": {},
   "source": [
    "Hierachical Agglomerative Clustering Libraries"
   ]
  },
  {
   "cell_type": "code",
   "execution_count": 42,
   "id": "a653d838",
   "metadata": {},
   "outputs": [],
   "source": [
    "from sklearn.preprocessing import StandardScaler, normalize\n",
    "from sklearn.decomposition import PCA\n",
    "import scipy.cluster.hierarchy as hc\n",
    "from sklearn.cluster import AgglomerativeClustering"
   ]
  },
  {
   "cell_type": "markdown",
   "id": "2ea8f4e1",
   "metadata": {},
   "source": [
    "Scaling the data and normalising data"
   ]
  },
  {
   "cell_type": "code",
   "execution_count": 43,
   "id": "fb37301e",
   "metadata": {},
   "outputs": [],
   "source": [
    "sc = StandardScaler()\n",
    "df_scaled = sc.fit_transform(X)\n",
    "df_normalized = normalize(df_scaled)"
   ]
  },
  {
   "cell_type": "markdown",
   "id": "1aa3e303",
   "metadata": {},
   "source": [
    "Reducing the dimensionality of the dataframe to 3 features"
   ]
  },
  {
   "cell_type": "code",
   "execution_count": 44,
   "id": "419d6bf6",
   "metadata": {},
   "outputs": [],
   "source": [
    "pca = PCA(n_components=3)\n",
    "df_pca = pca.fit_transform(df_normalized)\n",
    "df_pca = pd.DataFrame(df_pca)\n",
    "df_pca.columns = ['P1', 'P2', 'P3']"
   ]
  },
  {
   "cell_type": "markdown",
   "id": "c0f2c663",
   "metadata": {},
   "source": [
    "Plotting  the Dendogram "
   ]
  },
  {
   "cell_type": "code",
   "execution_count": 45,
   "id": "71ea898f",
   "metadata": {},
   "outputs": [
    {
     "data": {
      "image/png": "[encoded data removed]",
      "text/plain": [
       "<Figure size 576x576 with 1 Axes>"
      ]
     },
     "metadata": {
      "needs_background": "light"
     },
     "output_type": "display_data"
    }
   ],
   "source": [
    "plt.figure(figsize =(8, 8))\n",
    "plt.title('Visualising the data')\n",
    "dendrogram = hc.dendrogram((hc.linkage(df_pca, method ='ward')))"
   ]
  },
  {
   "cell_type": "markdown",
   "id": "3e954690",
   "metadata": {},
   "source": [
    "Building and Visualizing the different clustering models for different values of k (clusters)"
   ]
  },
  {
   "cell_type": "markdown",
   "id": "741a417a",
   "metadata": {},
   "source": [
    "# Level 1 consists of 5 clusters."
   ]
  },
  {
   "cell_type": "markdown",
   "id": "9a6e64ee",
   "metadata": {},
   "source": [
    "Creating the clusters using Agglomerative hierarchical clustering"
   ]
  },
  {
   "cell_type": "code",
   "execution_count": 46,
   "id": "411bab8e",
   "metadata": {},
   "outputs": [
    {
     "data": {
      "image/png": "[encoded data removed]",
      "text/plain": [
       "<Figure size 576x576 with 1 Axes>"
      ]
     },
     "metadata": {
      "needs_background": "light"
     },
     "output_type": "display_data"
    }
   ],
   "source": [
    "agc5 = AgglomerativeClustering(n_clusters = 5)\n",
    "plt.figure(figsize =(8, 8))\n",
    "plt.scatter(df_pca['P1'], df_pca['P2'], c = agc5.fit_predict(df_pca), cmap ='rainbow')\n",
    "plt.title(\"Agglomerative Hierarchical Clusters - Scatter Plot\", fontsize=18)\n",
    "plt.show()"
   ]
  },
  {
   "cell_type": "markdown",
   "id": "2ac3d269",
   "metadata": {},
   "source": [
    "# Level 2 has 4 clusters"
   ]
  },
  {
   "cell_type": "markdown",
   "id": "454a3eb8",
   "metadata": {},
   "source": [
    "Creating the clusters using Agglomerative hierarchical clustering"
   ]
  },
  {
   "cell_type": "code",
   "execution_count": 55,
   "id": "060bfdf5",
   "metadata": {},
   "outputs": [
    {
     "data": {
      "image/png": "[encoded data removed]",
      "text/plain": [
       "<Figure size 576x576 with 1 Axes>"
      ]
     },
     "metadata": {
      "needs_background": "light"
     },
     "output_type": "display_data"
    }
   ],
   "source": [
    "agc4 = AgglomerativeClustering(n_clusters = 4)\n",
    "plt.figure(figsize =(8, 8))\n",
    "plt.scatter(df_pca['P1'], df_pca['P2'], c = agc4.fit_predict(df_pca), cmap ='rainbow')\n",
    "plt.title(\"Agglomerative Hierarchical Clusters - Scatter Plot\", fontsize=18)\n",
    "plt.show()"
   ]
  },
  {
   "cell_type": "markdown",
   "id": "44bb0afd",
   "metadata": {},
   "source": [
    "# Level 3 has 3 clusters"
   ]
  },
  {
   "cell_type": "markdown",
   "id": "47610c9e",
   "metadata": {},
   "source": [
    "Creating the clusters using Agglomerative hierarchical clustering"
   ]
  },
  {
   "cell_type": "code",
   "execution_count": 56,
   "id": "5c420116",
   "metadata": {},
   "outputs": [
    {
     "data": {
      "image/png": "[encoded data removed]",
      "text/plain": [
       "<Figure size 576x576 with 1 Axes>"
      ]
     },
     "metadata": {
      "needs_background": "light"
     },
     "output_type": "display_data"
    }
   ],
   "source": [
    "agc3 = AgglomerativeClustering(n_clusters = 3)\n",
    "plt.figure(figsize =(8, 8))\n",
    "plt.scatter(df_pca['P1'], df_pca['P2'], c = agc3.fit_predict(df_pca), cmap ='rainbow')\n",
    "plt.title(\"Agglomerative Hierarchical Clusters - Scatter Plot\", fontsize=18)\n",
    "plt.show()"
   ]
  },
  {
   "cell_type": "markdown",
   "id": "7405f817",
   "metadata": {},
   "source": [
    "# Level 4 has 2 clusters"
   ]
  },
  {
   "cell_type": "markdown",
   "id": "af9747f9",
   "metadata": {},
   "source": [
    "Creating the clusters using Agglomerative hierarchical clustering"
   ]
  },
  {
   "cell_type": "code",
   "execution_count": 57,
   "id": "9f224fc9",
   "metadata": {},
   "outputs": [
    {
     "data": {
      "image/png": "[encoded data removed]",
      "text/plain": [
       "<Figure size 576x576 with 1 Axes>"
      ]
     },
     "metadata": {
      "needs_background": "light"
     },
     "output_type": "display_data"
    }
   ],
   "source": [
    "agc2 = AgglomerativeClustering(n_clusters = 2)\n",
    "plt.figure(figsize =(8, 8))\n",
    "plt.scatter(df_pca['P1'], df_pca['P2'], c = agc2.fit_predict(df_pca), cmap ='rainbow')\n",
    "plt.title(\"Agglomerative Hierarchical Clusters - Scatter Plot\", fontsize=18)\n",
    "plt.show()"
   ]
  },
  {
   "cell_type": "code",
   "execution_count": 58,
   "id": "d3a0a928",
   "metadata": {},
   "outputs": [],
   "source": [
    "Ag = AgglomerativeClustering(n_clusters=2, linkage='ward')\n",
    "label =Ag.fit_predict(df_pca)"
   ]
  },
  {
   "cell_type": "code",
   "execution_count": 59,
   "id": "e247d3e6",
   "metadata": {},
   "outputs": [
    {
     "name": "stdout",
     "output_type": "stream",
     "text": [
      "[0 0 0 1 0 0 0 1 0 1 1 1 0 0 1 0 0 1 0 1 0 0 1 0 0 0 1 0 0 1 0 1 1 1 0 0 0\n",
      " 1 0 1 1 1 1 0 1 1 0 0 0 0 1 0 1 0 0 1 0 1 0 1 0 1 1 0 1 1 1 1 1 1 0 0 1 1\n",
      " 1 1 1 0 0 1 1 1 0 1 1 0 0 0 1 0 0 1 0 0 0 0 0 0 1 1 0 0 0 0 0 1 0 0 1 0 0\n",
      " 1 1 1 0 0 0 0 1 1 0 0 0 1 0 0 0 0 0 1 0 0 0 0 0 1 0 1 1 0 0 1 0 1 0 1 0 0\n",
      " 0 0 0 0 0 1 1 0 0 1 0 1 0 0 1 1 0 0 0 0 0 0 0 0 0 1 0 0 0 0 0 0 0 1 1 1 0\n",
      " 0 0 0 1 0 0 0 1 0 0 1 0 1 1 0 0 0 0 1 1 0 0 0 0 1 0 1 1 0 0 0 0 1 0 0 0 0\n",
      " 1 0 0 1 0 1 0 0 0 1 0 0 0 0 1 0 1 0 0 0 1 1 0 0 0 0 1 1 0 0 0 0 1 1 1 0 0\n",
      " 0 0 0 1 0 0 1 0 0 0 0 1 1 1 1 0 0 0 0 0 1 1 1 0 0 1 0 0 0 0 0 0 0 0 0 0 1\n",
      " 0 0 0 0 0 1 0 0 0 0 0 1 1 1 0 1 0 0 0 0 0 0 1 1 0 0 0 1 1 0 1 1 0 1 1 1 0\n",
      " 0 0 1 0 1 1 0 1 1 0 0 0 0 1 0 0 0 1 1 0 1 1 1 1 0 1 0 1 0 1 1 1 0 0 1 1 0\n",
      " 0 0 0 0 1 1 0 0 0 1 0 0 0 1 1 0 1 1 1 0 0 0 0 0 0 1 1 0 1 1 0 1 1 0 1 1 0\n",
      " 0 0 0 0 0 1 0 0 0 0 0 1 0 0 0 0 0 1 1 0 0 1 1 1 1 1 1 0 0 0 0 1 0 0 0 1 0\n",
      " 0 0 1 0 1 0 0 0 0 1 1 1 0 1 0 0 1 1 0 0 0 0 1 0 0 0 0 1 0 1 0 0 0 0 1 0 0\n",
      " 1 1 1 1 0 1 1 0 0 0 1 0 0 1 0 1 0 0 0 0 0 1 0 1 0 0 1 0 0 0 1 1 0 0 0 0 0\n",
      " 0 0 1 0 1 1 0 1 0 1 1 1 0 1 0 0 0 0 0 1 0 0 0 0 0 0 1 0 0 0 1 0 0 0 1 0 1\n",
      " 1 0 1 1 1 0 0 0 0 1 1 0 0 1 0 0 0 1 0 0 0 0 0 0 1 0 0 0 0 0 0 1 1 1 1 1 1\n",
      " 1 0 0 0 1 1 0 0 1 1 0 1 0 0 0 1 1 1 0 1 0 0 0 1 1 0 0 0 1 1 0 0 1 0 0 1 1\n",
      " 0 0 0 0 0 0 0 0 0 0 0 1 0 0 0 1 0 1 1 1 0 0 0 0 0 0 1 0 1 1 0 0 1 1 0 0 0\n",
      " 0 0 0 0 0 1 0 0 0 0 0 0 0 1 0 1 1 0 0 0 0 0 1 0 1 0 0 0 1 0 0 1 0 1 0 1 0\n",
      " 1 0 1 1 1 0 0 0 0 0 0 0 0 0 0 0 0 1 0 0 1 1 0 0 0 0 1 0 1 0 1 1 1 0 0 0 1\n",
      " 0 1 0 0 1 0 0 1 1 0 0 0 0 0 1 0 1 0 0 0 1 1 0 1 1 0 0 0 0 1 1 0 0 0 1 1 0\n",
      " 1 0 0 1 0 0 0 0 0 0 1 1 1 1 1 0 0 1 0 0 0 1 1 0 0 0 0 0 0 0 1 0 1 1 1 0 0\n",
      " 0 0 1 0 1 0 0 0 0 0 1 1 0 0 0 1 1 0 1 0 1 0 1 0 0 0 1 1 0 0 0 0 0 1 1 0 0\n",
      " 1 0 0 1 0 0 0 0 0 1 0 0 0 0 0 1 1 0 1 1 0 0 0 1 0 0 1 1 0 0 0 1 1 1 0 0 1\n",
      " 0 1 0 0 1 0 1 1 1 0 0 0 0 0 0 0 0 0 1 0 0 0 1 0 0 0 1 0 0 1 0 0 0 1 0 1 0\n",
      " 0 1 0 0 1 0 1 0 0 0 1 1 1 0 0 0 0 0 0 1 1 0 1 0 0 0 0 0 0 1 1 0 0 1 0 1 1\n",
      " 0 0 1 1 0 1 0 0 0 0 0 1 1 0 0 1 0 0 1 0 0 0 0 1 1 0 1 0 0 0 1 1 1 0 1 0 0\n",
      " 0]\n"
     ]
    }
   ],
   "source": [
    "print(Ag.labels_)"
   ]
  },
  {
   "cell_type": "markdown",
   "id": "7d41bcd3",
   "metadata": {},
   "source": [
    "Evaluating the different models and Visualizing the results using various Silhouette Scores "
   ]
  },
  {
   "cell_type": "markdown",
   "id": "f13982cb",
   "metadata": {},
   "source": [
    "Various clusters used"
   ]
  },
  {
   "cell_type": "code",
   "execution_count": 60,
   "id": "f44ae417",
   "metadata": {},
   "outputs": [],
   "source": [
    "k = [2, 3, 4, 5]"
   ]
  },
  {
   "cell_type": "markdown",
   "id": "e3878918",
   "metadata": {},
   "source": [
    "Appending the silhouette scores of the different models {clusters} to the list"
   ]
  },
  {
   "cell_type": "code",
   "execution_count": 61,
   "id": "3f35c0f9",
   "metadata": {},
   "outputs": [],
   "source": [
    "from sklearn.metrics import silhouette_score\n",
    "silhouette_scores = []\n",
    "silhouette_scores.append(\n",
    "        silhouette_score(df_pca, agc2.fit_predict(df_pca)))\n",
    "silhouette_scores.append(\n",
    "        silhouette_score(df_pca, agc3.fit_predict(df_pca)))\n",
    "silhouette_scores.append(\n",
    "        silhouette_score(df_pca, agc4.fit_predict(df_pca)))\n",
    "silhouette_scores.append(\n",
    "        silhouette_score(df_pca, agc5.fit_predict(df_pca)))"
   ]
  },
  {
   "cell_type": "markdown",
   "id": "7e2401f6",
   "metadata": {},
   "source": [
    "Plotting a bar graph to compare the different model results "
   ]
  },
  {
   "cell_type": "code",
   "execution_count": 62,
   "id": "eab3ea57",
   "metadata": {},
   "outputs": [
    {
     "data": {
      "image/png": "[encoded data removed]",
      "text/plain": [
       "<Figure size 432x288 with 1 Axes>"
      ]
     },
     "metadata": {
      "needs_background": "light"
     },
     "output_type": "display_data"
    }
   ],
   "source": [
    "plt.bar(k, silhouette_scores)\n",
    "plt.xlabel('Various clusters (5)', fontsize = 20)\n",
    "plt.ylabel('S(i)', fontsize = 20)\n",
    "plt.show()"
   ]
  },
  {
   "cell_type": "markdown",
   "id": "c5ba88c3",
   "metadata": {},
   "source": [
    "Thus, using the silhouette scores, it is determined that the optimal number of clusters for the aforementioned dataset and clustering technique is four {4}."
   ]
  },
  {
   "cell_type": "markdown",
   "id": "5f9eecdb",
   "metadata": {},
   "source": [
    "Printing the various silhouette_scores  for the various k values"
   ]
  },
  {
   "cell_type": "code",
   "execution_count": 63,
   "id": "c679aeba",
   "metadata": {},
   "outputs": [
    {
     "name": "stdout",
     "output_type": "stream",
     "text": [
      "[2, 3, 4, 5] [0.3917344296175909, 0.4848899351050304, 0.4896978795395136, 0.4549050980779645]\n"
     ]
    }
   ],
   "source": [
    "print(k, silhouette_scores)"
   ]
  },
  {
   "cell_type": "markdown",
   "id": "5d437fc2-5664-47b3-9131-fd46d5303f6e",
   "metadata": {},
   "source": [
    "From the results above , it is evident that when the Agglomerative -Hierarchical Clustering is used , the following scores are produced:-\n",
    "    k=2  , score is 39%\n",
    "    k=3 , score is 48%\n",
    "    k=4 , score is 49%\n",
    "    k=5 , score is 45%"
   ]
  },
  {
   "cell_type": "code",
   "execution_count": 66,
   "id": "71006267-d2ad-4770-98de-21519fc11f82",
   "metadata": {},
   "outputs": [],
   "source": [
    "from sklearn.cluster import AgglomerativeClustering\n",
    "AC=AgglomerativeClustering(n_clusters=4)\n",
    "a=AC.fit_predict(df_pca)\n",
    "df_pca[\"Clusters\"]=a"
   ]
  },
  {
   "cell_type": "code",
   "execution_count": 68,
   "id": "88a6ece7-f04d-42a2-876b-2633619bf27d",
   "metadata": {},
   "outputs": [
    {
     "data": {
      "image/png": "[encoded data removed]",
      "text/plain": [
       "<Figure size 360x360 with 1 Axes>"
      ]
     },
     "metadata": {
      "needs_background": "light"
     },
     "output_type": "display_data"
    }
   ],
   "source": [
    "x =df_pca[\"P1\"]\n",
    "y =df_pca[\"P2\"]\n",
    "z =df_pca[\"P3\"]\n",
    "plt.figure(figsize=(5,5))\n",
    "axs=plt.subplot(111, projection='3d', label=\"bla\")\n",
    "axs.scatter(x, y, z, s=50, c=df_pca[\"Clusters\"], marker='o', cmap = 'Set1' )\n",
    "axs.set_title(\"The Plot Of The Clusters\")\n",
    "plt.show()"
   ]
  },
  {
   "cell_type": "markdown",
   "id": "e5df8194",
   "metadata": {},
   "source": [
    "# Conclusion"
   ]
  },
  {
   "cell_type": "markdown",
   "id": "ec833f87",
   "metadata": {},
   "source": [
    "From the 3 different algorithms used {K-means clustering algorithm , DBSCAN clustering algorithm and lastly , Agglomerative clustering method which is a type of a Hierarchical Clustering Method} , it is evident that K-Means make use of accuracy to determine the preciseness of the algorithm , DBSCAN makes use of V_measure to determine the preciseness of the algorithm and finally , Aggomerative -Hierarchical clustering method makes use of the silhouette scores to determine the preciseness of the algorithm"
   ]
  }
 ],
 "metadata": {
  "kernelspec": {
   "display_name": "Python 3 (ipykernel)",
   "language": "python",
   "name": "python3"
  },
  "language_info": {
   "codemirror_mode": {
    "name": "ipython",
    "version": 3
   },
   "file_extension": ".py",
   "mimetype": "text/x-python",
   "name": "python",
   "nbconvert_exporter": "python",
   "pygments_lexer": "ipython3",
   "version": "3.9.12"
  }
 },
 "nbformat": 4,
 "nbformat_minor": 5
}
